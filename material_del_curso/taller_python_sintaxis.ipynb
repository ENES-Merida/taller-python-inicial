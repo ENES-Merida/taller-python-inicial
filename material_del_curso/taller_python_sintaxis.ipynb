{
 "cells": [
  {
   "metadata": {},
   "cell_type": "markdown",
   "source": [
    "# Taller de Programación con Python: Sintaxis del lenguaje.\n",
    "\n",
    "## Comentar código en Python:"
   ],
   "id": "1cdc27186d922bf9"
  },
  {
   "metadata": {
    "ExecuteTime": {
     "end_time": "2025-06-24T22:52:48.788355Z",
     "start_time": "2025-06-24T22:52:48.786055Z"
    }
   },
   "cell_type": "code",
   "source": "# Comentarios de una línea comienzan con una almohadilla (o signo gato)",
   "id": "3a9be75be10b03a0",
   "outputs": [],
   "execution_count": 1
  },
  {
   "metadata": {
    "ExecuteTime": {
     "end_time": "2025-06-24T22:54:36.372878Z",
     "start_time": "2025-06-24T22:54:36.370053Z"
    }
   },
   "cell_type": "code",
   "source": [
    "\"\"\" Strings multilinea pueden escribirse\n",
    "    usando tres \"'s, y comunmente son usados\n",
    "    como comentarios.\n",
    "\"\"\""
   ],
   "id": "d157e2c0da1456a5",
   "outputs": [
    {
     "data": {
      "text/plain": [
       "' Strings multilinea pueden escribirse\\n    usando tres \"\\'s, y comunmente son usados\\n    como comentarios.\\n'"
      ]
     },
     "execution_count": 4,
     "metadata": {},
     "output_type": "execute_result"
    }
   ],
   "execution_count": 4
  },
  {
   "metadata": {},
   "cell_type": "markdown",
   "source": "## 1. Tipos de datos primitivos y operadores.",
   "id": "79680b97609c015b"
  },
  {
   "metadata": {},
   "cell_type": "code",
   "outputs": [],
   "execution_count": null,
   "source": "",
   "id": "6c0a545a39c9d184"
  }
 ],
 "metadata": {
  "kernelspec": {
   "display_name": "Python 3",
   "language": "python",
   "name": "python3"
  },
  "language_info": {
   "codemirror_mode": {
    "name": "ipython",
    "version": 2
   },
   "file_extension": ".py",
   "mimetype": "text/x-python",
   "name": "python",
   "nbconvert_exporter": "python",
   "pygments_lexer": "ipython2",
   "version": "2.7.6"
  }
 },
 "nbformat": 4,
 "nbformat_minor": 5
}
