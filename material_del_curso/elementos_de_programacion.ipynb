{
 "cells": [
  {
   "cell_type": "markdown",
   "metadata": {},
   "source": [
    "<div style=\"text-align: center;\">\n",
    "    <img src=\"../imagenes_frontend/banner.png\" alt=\"Banner curso\" style=\"width:80%\">\n",
    "</div>\n"
   ]
  },
  {
   "cell_type": "markdown",
   "metadata": {},
   "source": [
    "<div style=\"display: flex; justify-content: center;\">\n",
    "    <h1>Taller Inicial de Programación con Python</h1>\n",
    "</div>\n",
    "\n",
    "## Temario\n",
    "\n",
    "1. Conceptos Fundamentales de la Programación e Introducción a Python.\n",
    "\n",
    "    1.1 Breve introducción a los lenguajes de programación.  \n",
    "    1.2 Tipos de datos: enteros, punto flotante, lógicas y cadenas de texto.  \n",
    "    1.3 Variables: asignación e inicialización.  \n",
    "    1.4 Convención para nombrar variables, funciones y archivos en python.  \n",
    "    1.5 Palabras reservadas.  \n",
    "    1.6 Escribamos nuestro primer programa.  \n",
    "\n",
    "2. Operadores\n",
    "\n",
    "    + Operadores aritméticos y orden de precedencia.\n",
    "    + Operadores de Asignación.\n",
    "    + Operadores de incremento y decremento.\n",
    "    + Operadores de relación e igualdad.\n",
    "    + Operadores lógicos.\n",
    "\n",
    "3. Estructuras de control\n",
    "\n",
    "    + Estructura secuencial.\n",
    "    + Estructura selectiva.\n",
    "    + Estructura iterativa.\n",
    "\n",
    "4. Funciones\n",
    "\n",
    "    + Creación y llamada de funciones\n",
    "    + Parámetros y argumentos.\n",
    "    + Paso de argumentos por valor y referencia.\n",
    "    + Recuperación de valores.\n",
    "    \n",
    "5. Estructura de datos\n",
    "\n",
    "    + Tipos de estructura de datos.\n",
    "    + Arreglos en python e introducción a Numpy: declaración y manipulación."
   ]
  },
  {
   "cell_type": "markdown",
   "metadata": {},
   "source": [
    "## 1. Conceptos Fundamentales de la Programación e Introducción a Python.\n",
    "\n",
    "### 1.1. Breve introducción a los lenguajes de programación.\n",
    "\n",
    "Un lenguaje de programación es un sistema formal de comunicación diseñado para expresar instrucciones que pueden ser entendidas y ejecutadas por una computadora. Estos lenguajes permiten a los programadores escribir programas, que son conjuntos de instrucciones que dictan cómo una máquina debe manipular datos.\n"
   ]
  },
  {
   "cell_type": "markdown",
   "metadata": {},
   "source": [
    "__Características Clave de un Lenguaje de Programación:__\n",
    "\n",
    "- **Sintaxis**: La sintaxis de un lenguaje de programación se refiere a las reglas y estructuras que se utilizan para escribir el código, siendo equivalente a las reglas gramaticales y de redacción que rigen a cada idioma. \n",
    "\n",
    "Por ejemplo, la sintaxis para definir una función en el lenguaje de programación Python es:\n",
    "```python\n",
    "# Sintaxis Python\n",
    "def suma(a, b):\n",
    "    return a + b\n",
    "```\n",
    "En el lenguaje de programación Java una función se define así:\n",
    "```java\n",
    "    // Sintaxis Java\n",
    "    public int suma(int a, int b) {\n",
    "        return a + b;\n",
    "    }\n",
    "```\n",
    "- **Semántica**: La semántica en programación se refiere al significado de las instrucciones escritas usando un lenguaje de programación. La siguiente instrucción implica la suma de dos números:\n",
    "```shell\n",
    ">> 5 + 4                   # '+' indica la suma de dos números: 9\n",
    "```\n",
    "pero la siguiente instrucción denota la unión de dos cadenas de texto:\n",
    "```shell\n",
    ">> 'hola' + 'clase'        # '+' indica la concatenación o la unión de dos cadenas de texto: 'holaclase'\n",
    "```\n",
    "La siguiente instrucción, ¿qué significa?:\n",
    "```shell\n",
    ">> 'hola' + 34              # output: ¿?\n",
    "```\n",
    "- **Expresión**: Una expresión en programación consiste de *valores* o *datos* y *operadores*, que pueden ser *evaluados* a un único valor. Ejemplos:\n",
    "```shell\n",
    ">> 5 * 4                                            # Da como resultado: 20\n",
    ">> 'Hola' + 'futuros programadores'                 # Da como resultado: 'Holafuturos programadores'\n",
    "```\n"
   ]
  },
  {
   "cell_type": "markdown",
   "metadata": {},
   "source": [
    "- Abstracción:\n",
    "\n",
    "Los lenguajes de programación proporcionan abstracción para facilitar la escritura expresiones, es decir, nos evitan lidiar con las compolejidades técnicas que se relacionan con la manera en que internamente una computadora almacena y manipula los datos."
   ]
  },
  {
   "cell_type": "markdown",
   "metadata": {},
   "source": [
    "__El proceso de programación__\n",
    "\n",
    "> La programación es un proceso de resolución de problemas. Para resolver estos problemas se requieren técnicas diferentes que comprenden desde el análisis del problema, especificación de requisitos o requerimientos y las etapas de diseño denominadas algoritmos.\n",
    "\n"
   ]
  },
  {
   "cell_type": "markdown",
   "metadata": {},
   "source": [
    "__Paradigmas de Programación o estilos de programación:__\n",
    "\n",
    "- **Programación imperativa:** Especifica una secuencia de operaciones para realizar una tarea.\n",
    "\n",
    "- **Programación declarativa:** Describe qué se debe hacer, no cómo hacerlo.\n",
    "\n",
    "- **Programación orientada a objetos:** Organiza el código en objetos que tienen propiedades y comportamientos.\n",
    "\n",
    "- **Programación funcional:** Trata la computación como la evaluación de funciones matemáticas.\n"
   ]
  },
  {
   "cell_type": "markdown",
   "metadata": {},
   "source": [
    "__Tipos de Lenguajes de Programación__\n",
    "\n",
    "- Lenguajes de bajo nivel:\n",
    "\n",
    "    Un lenguaje de programación de bajo nivel proporciona poca o ninguna abstracción de la arquitectura del sistema del ordenador, es decir, se escribe código que es estructuralmente parecido a las instrucciones del procesador. Mayormente, con este término se refiere al código máquina y/o al lenguaje ensamblador.\n",
    "\n",
    "- Lenguajes de alto nivel:\n",
    "\n",
    "    Un lenguaje de programación de alto nivel proporciona una gran abstracción entre el lenguaje de la máquina y el lenguaje humano, siendo mucho más fácil de leer, escribir y/o automatizar, ya que oculta detalles del sistema del ordenador para ejecutarlos tras el telón, como por ejemplo, la gestión de la memoria.\n"
   ]
  },
  {
   "cell_type": "markdown",
   "metadata": {},
   "source": [
    "__¿Cómo se ejecutan los lenguajes de Programación?__\n",
    "\n",
    "El mundo como lo conocemos depende de los lenguajes de programación debido a que el software que utilizamos en nuestra vida diaria ha sido escrito en alguno de ellos. Pero los programas escritos para que puedan ser ejecutados antes necesitan ser traducidos al lenguaje de la computadora para que esta entienda que tiene que hacer.\n",
    "\n",
    "El proceso de traducción se le conoce como __compilación__ y al software usado para traducir se le llama _compilador_ o _interprete_, según sea el caso.\n",
    "\n",
    "Un __compilador__ traduce el código de un lenguaje de programación de alto nivel a código máquina antes de que el programa se ejecute. Una función importante del compilador es informar de cualquier error en el programa fuente que detecte durante el proceso de traducción.\n",
    "\n",
    "Un __intérprete__ traduce el código escrito en un lenguaje de programación de alto nivel a código máquina línea por línea a medida que se ejecuta el código. En caso de detectar un error mientras se ejecuta, interrumpe el programa y muestra información acerca del este."
   ]
  },
  {
   "cell_type": "markdown",
   "metadata": {},
   "source": [
    "__Lenguaje de Programación Python__\n",
    "\n",
    "La elección del lenguaje de programación puede depender de muchos factores, incluyendo el dominio de aplicación, las preferencias personales, el rendimiento requerido y la comunidad de soporte disponible. _Python_ es un lenguaje de programación de alto nivel que ha ganado una gran popularidad debido a su versatilidad, facilidad de uso y amplia gama de bibliotecas. Entre las principales ventajas de usar Python se encuentran:\n",
    "\n",
    "1. Sintaxis clara y legible.\n",
    "\n",
    "2. Gran comunidad y soporte.\n",
    "\n",
    "3. Versatilidad y portabilidad.\n",
    "\n",
    "4. Amplia gama de bibliotecas y frameworks.\n",
    "\n",
    "5. Código rápido y eficiente.\n",
    "\n",
    "6. Código robusto y escalable.\n",
    "\n",
    "7. Facilidad de aprendizaje.\n",
    "\n",
    "8. Amplia gama de aplicaciones:\n",
    "\n",
    "    - Análisis de datos y ciencia de datos\n",
    "    - Aprendizaje automático e inteligencia artificial\n",
    "    - Desarrollo web y aplicaciones web\n",
    "    - Desarrollo de escritorio\n",
    "    - __Automatización de tareas__\n",
    "    - Scripting y administración de sistemas\n",
    "    - Desarrollo de juegos\n",
    "    - Visualización de datos"
   ]
  },
  {
   "cell_type": "markdown",
   "metadata": {},
   "source": [
    "__Escribir expresiones en la shell interactiva de Python y en los Jupyter Notebook__\n",
    "\n",
    "* Abrir shell interactiva de python y empezar a escribir expresiones.\n",
    "* Crear celda interactiva de jupyter notebook y comenzar a escribir expresiones."
   ]
  },
  {
   "cell_type": "markdown",
   "metadata": {},
   "source": [
    "__Operadores aritméticos y orden de precedencia__\n",
    "\n",
    "Los operadores aritméticos se utilizan para realizar operaciones matemáticas básicas con números. \n",
    "\n",
    "<div style=\"display: flex; justify-content: center;\">\n",
    "\n",
    "| Operador | Operación | Ejemplo | Evalua a: |\n",
    "| :---: | :---: | :---: | :---: |\n",
    "| `**` |Exponente | `2**3` | `8` |\n",
    "| `%` | Módulo / residuo | `22 % 8` | `6` |\n",
    "| `//` | División Entera | `22 // 8` | `2` |\n",
    "| `/` | División | `22 / 8` | `2.75` |\n",
    "| `*` | Multiplicación | `3 * 8` | `24` |\n",
    "| `-` | Resta | `15 - 8` | `7` |\n",
    "| `+` | Suma | `42 + 8` | `50` |\n",
    "\n",
    "</div>"
   ]
  },
  {
   "cell_type": "markdown",
   "metadata": {},
   "source": [
    "En lenguajes de programación, el orden en que se evalúan estas operaciones está definido por la precedencia de los operadores. La precedencia dictamina qué operaciones se realizan primero y en qué orden.\n",
    "\n",
    "<div style=\"display: flex; justify-content: center;\">\n",
    "\n",
    "| Precendencia | Operador | Descripción | Asociatividad |\n",
    "| :---: | :---: | :---: | :---: |\n",
    "| 1 | **(expresion)** | Expresión entre paréntesis | Izquierda a derecha |\n",
    "| 2 | **\\*\\*** | Exponente | Izquierda a derecha |\n",
    "| 3 | **\\*, /, //, %** | Multiplicación, división, cociente y módulo | Izquierda a derecha |\n",
    "| 4 | **+, -** | Suma y resta | Izquierda a derecha |\n",
    "\n",
    "</div>"
   ]
  },
  {
   "cell_type": "code",
   "execution_count": 1,
   "metadata": {
    "ExecuteTime": {
     "end_time": "2025-04-11T17:05:17.781041Z",
     "start_time": "2025-04-11T17:05:17.762854Z"
    }
   },
   "outputs": [
    {
     "data": {
      "text/plain": [
       "48.75"
      ]
     },
     "execution_count": 1,
     "metadata": {},
     "output_type": "execute_result"
    }
   ],
   "source": [
    "4 + 6 * 3**2 - 34 / 8 - 12 % 7"
   ]
  },
  {
   "cell_type": "markdown",
   "metadata": {},
   "source": [
    "### 1.2. Tipos de datos: enteros, punto flotante, lógicas y cadenas de texto.\n",
    "\n",
    "Los tipos de datos son la base fundamental para organizar y manipular la información en los lenguajes de programación. Cierto tipo de dato define el tipo de valor que se puede manejar y las operaciones que se pueden realizar con ese tipo de dato.\n",
    "\n",
    "Los tipos de datos primitivos son los tipos de datos más básicos que ofrece un lenguaje de programación. Son indivisibles y solo pueden almacenar un único valor. Los tipos de datos primitivos más comunes incluyen:\n",
    "\n",
    "| Categoría | Tipo de Dato | Descripción | Ejemplos |\n",
    "| :---: | :---: | :--- | :---: |\n",
    "| Tipo Numérico | Entero (int)| Números enteros positivos, negativos o cero. Comprende un rango de valores aproximadamente de -9,223,372,036,854,775,808 a 9,223,372,036,854,775,807. | ```1, -10, 0, 200``` |\n",
    "| Tipo Numérico | Coma Flotante (float) | Números de punto flotante. Comprende un rango de valores aproximadamente de ±1.79769313486231570E+308 (precisión de 15-16 dígitos decimales). | ```3.1416, -5.2, 10.0, 0.33``` |\n",
    "| Tipo Texto | Cadena de Texto (str) | Secuencias de caracteres. | ```'Hola mundo', 'Python es genial', '42'``` | Suma total de caracteres |\n",
    "| Tipo booleano | Booleano (bool) | Valores de verdad o falso. | ```True, False``` |\n"
   ]
  },
  {
   "cell_type": "markdown",
   "metadata": {},
   "source": [
    "Podemos usar la función: `type()` de python para conocer el tipo de dato de un valor."
   ]
  },
  {
   "cell_type": "code",
   "execution_count": 1,
   "metadata": {},
   "outputs": [
    {
     "data": {
      "text/plain": [
       "int"
      ]
     },
     "execution_count": 1,
     "metadata": {},
     "output_type": "execute_result"
    }
   ],
   "source": [
    "type(37)"
   ]
  },
  {
   "cell_type": "code",
   "execution_count": 2,
   "metadata": {},
   "outputs": [
    {
     "data": {
      "text/plain": [
       "float"
      ]
     },
     "execution_count": 2,
     "metadata": {},
     "output_type": "execute_result"
    }
   ],
   "source": [
    "type(4.64)"
   ]
  },
  {
   "cell_type": "code",
   "execution_count": 4,
   "metadata": {},
   "outputs": [
    {
     "data": {
      "text/plain": [
       "str"
      ]
     },
     "execution_count": 4,
     "metadata": {},
     "output_type": "execute_result"
    }
   ],
   "source": [
    "type('¡Soy una cadena de texto!')"
   ]
  },
  {
   "cell_type": "code",
   "execution_count": 5,
   "metadata": {},
   "outputs": [
    {
     "data": {
      "text/plain": [
       "bool"
      ]
     },
     "execution_count": 5,
     "metadata": {},
     "output_type": "execute_result"
    }
   ],
   "source": [
    "type(True)"
   ]
  },
  {
   "cell_type": "markdown",
   "metadata": {},
   "source": [
    "__Concatenación de cadenas de texto y replicación__\n",
    "\n",
    "El significado de un operador puede cambiar en función de los tipos de datos de los valores que aparecen junto a él. Por ejemplo, `+` es el operador de suma cuando opera en dos enteros o valores de coma flotante. Sin embargo, cuando `+` se utiliza sobre dos valores de cadena, une las cadenas como operador de concatenación de cadenas."
   ]
  },
  {
   "cell_type": "code",
   "execution_count": 6,
   "metadata": {},
   "outputs": [
    {
     "data": {
      "text/plain": [
       "'HolaMateo!'"
      ]
     },
     "execution_count": 6,
     "metadata": {},
     "output_type": "execute_result"
    }
   ],
   "source": [
    "'Hola' + 'Mateo' + '!'"
   ]
  },
  {
   "cell_type": "markdown",
   "metadata": {},
   "source": [
    "La expresión se evalúa hasta un único valor de cadena nuevo que combina el texto de las dos cadenas. Sin embargo, si intenta utilizar el operador `+` en una cadena y un valor entero, Python no sabrá cómo manejarlo y mostrará un mensaje de error:"
   ]
  },
  {
   "cell_type": "code",
   "execution_count": 7,
   "metadata": {},
   "outputs": [
    {
     "ename": "TypeError",
     "evalue": "can only concatenate str (not \"int\") to str",
     "output_type": "error",
     "traceback": [
      "\u001b[0;31m---------------------------------------------------------------------------\u001b[0m",
      "\u001b[0;31mTypeError\u001b[0m                                 Traceback (most recent call last)",
      "Cell \u001b[0;32mIn[7], line 1\u001b[0m\n\u001b[0;32m----> 1\u001b[0m \u001b[38;5;124m'\u001b[39m\u001b[38;5;124mHola\u001b[39m\u001b[38;5;124m'\u001b[39m \u001b[38;5;241m+\u001b[39m \u001b[38;5;241m34\u001b[39m\n",
      "\u001b[0;31mTypeError\u001b[0m: can only concatenate str (not \"int\") to str"
     ]
    }
   ],
   "source": [
    "'Hola' + 34"
   ]
  },
  {
   "cell_type": "markdown",
   "metadata": {},
   "source": [
    "El mensaje de error anterior es Python avisándote que si pensabas concatenar un número entero a una cadena de texto, el no puede realizar esta operación. Para que el lenguaje pueda llevar acabo una operación de este tipo habría que convertir, en el caso anterior, el número a una cadena de texto. Más adelante se verá como hacerlo."
   ]
  },
  {
   "cell_type": "markdown",
   "metadata": {},
   "source": [
    "### 1.3. Variables: asignación e inicialización\n",
    "\n",
    "Una _variable_ es como una caja en la memoria de la computadora donde se puede almacenar un único valor. Cuando evaluas un expresión y quieres usar su resultado en otro momento de tu programa, este se puede guardar en una variable."
   ]
  },
  {
   "cell_type": "markdown",
   "metadata": {},
   "source": [
    "__Asignación de una variable__\n",
    "\n",
    "La asignación de una variable consiste en asignar o guardar un valor en una variable. Esto se hace utilizando el operador de asignación `=` seguido del valor que se quiere almacenar, es decir, `variable = valor`. Por ejemplo:"
   ]
  },
  {
   "cell_type": "code",
   "execution_count": 18,
   "metadata": {},
   "outputs": [],
   "source": [
    "valor = 46"
   ]
  },
  {
   "cell_type": "code",
   "execution_count": 19,
   "metadata": {},
   "outputs": [
    {
     "data": {
      "text/plain": [
       "46"
      ]
     },
     "execution_count": 19,
     "metadata": {},
     "output_type": "execute_result"
    }
   ],
   "source": [
    "valor"
   ]
  },
  {
   "cell_type": "markdown",
   "metadata": {},
   "source": [
    "__Inicialización de una variable__\n",
    "\n",
    "La _inicialización de una variable_ es el proceso de crear por primera vez una variable asignándole un valor. Esto se puede hacer en la misma instrucción de declaración de la variable. Inicialicemos las dos siguientes variables:"
   ]
  },
  {
   "cell_type": "code",
   "execution_count": 10,
   "metadata": {},
   "outputs": [],
   "source": [
    "valor1 = 45\n",
    "valor2 = 65"
   ]
  },
  {
   "cell_type": "markdown",
   "metadata": {},
   "source": [
    "Después de inicializar una variable, puedes usarla dentro de una expresión en conjunto con otras variables, por ejemplo:"
   ]
  },
  {
   "cell_type": "code",
   "execution_count": 11,
   "metadata": {},
   "outputs": [
    {
     "data": {
      "text/plain": [
       "110"
      ]
     },
     "execution_count": 11,
     "metadata": {},
     "output_type": "execute_result"
    }
   ],
   "source": [
    "valor1 + valor2"
   ]
  },
  {
   "cell_type": "code",
   "execution_count": 12,
   "metadata": {},
   "outputs": [
    {
     "data": {
      "text/plain": [
       "155"
      ]
     },
     "execution_count": 12,
     "metadata": {},
     "output_type": "execute_result"
    }
   ],
   "source": [
    "valor1 + valor2 + valor1"
   ]
  },
  {
   "cell_type": "markdown",
   "metadata": {},
   "source": [
    "¿Qué sucede en la siguiente expresión?"
   ]
  },
  {
   "cell_type": "code",
   "execution_count": 13,
   "metadata": {},
   "outputs": [],
   "source": [
    "valor1 = valor1 + valor2"
   ]
  },
  {
   "cell_type": "markdown",
   "metadata": {},
   "source": [
    "Cuando a una variable se le asigna un nuevo valor, el valor anterior que almacenaba es olvidado. Esto se conoce como _sobreescribir_ una variable. Vease otros ejemplo:"
   ]
  },
  {
   "cell_type": "code",
   "execution_count": 14,
   "metadata": {},
   "outputs": [
    {
     "data": {
      "text/plain": [
       "'Hola'"
      ]
     },
     "execution_count": 14,
     "metadata": {},
     "output_type": "execute_result"
    }
   ],
   "source": [
    "spam = 'Hola'\n",
    "spam"
   ]
  },
  {
   "cell_type": "code",
   "execution_count": null,
   "metadata": {},
   "outputs": [
    {
     "data": {
      "text/plain": [
       "'Adios'"
      ]
     },
     "execution_count": 16,
     "metadata": {},
     "output_type": "execute_result"
    }
   ],
   "source": [
    "spam = 'Adios' # se sobreescribe la variable\n",
    "spam"
   ]
  },
  {
   "cell_type": "markdown",
   "metadata": {},
   "source": [
    "Más ejemplos de asignación de variables:"
   ]
  },
  {
   "cell_type": "code",
   "execution_count": 17,
   "metadata": {},
   "outputs": [],
   "source": [
    "# Asignación de un valor a la variable entera\n",
    "entero = 10\n",
    "\n",
    "# Asignación de un valor a la variable decimal\n",
    "flotante = 3.1416\n",
    "\n",
    "# Asignación de un valor a la variable de cadena de caracteres\n",
    "texto = 'Hola chicos de ambientales'\n",
    "\n",
    "# Asignación de un valor a la variable booleana\n",
    "booleana = True"
   ]
  },
  {
   "cell_type": "markdown",
   "metadata": {},
   "source": [
    "### 1.4. Convención para nombrar variables, funciones y archivos en python\n",
    "\n",
    "Nombrar adecuadamente a una variable permite saber con facilidad que dato contiene almacenado. Utilizar nombres descriptivos ayuda a que nuestro código sea facil de _leer_ y _entender_.\n",
    "\n",
    "A una variable se le puede nombrar de cualquier manera, pero Python tiene ciertas restricciones sobre los nombres de las variables. Mientras sigas las siguientes reglas, se puede nombrar a una variable de la mejor manera que consideremos:\n",
    "\n",
    "* El nombre de una variable tiene que ser sólo una palabra sin espacios.\n",
    "* Se pueden usar solamente letras, números y el caracter `_` para formar los nombres de las variables.\n",
    "* El nombre de una variable no puede empezar con un número.\n",
    "\n",
    "<div style=\"display: flex; justify-content: center;\">\n",
    "\n",
    "| Nombre de variables válidos | Nombre de variables No válidos |\n",
    "| --- | --- |\n",
    "| balance_actual | balance-actual (el guión `-` no es permitido) |\n",
    "| balanceActual | balance actual (los espacios no están permitidos) |\n",
    "| cuenta4 | 4cuenta (un nombre no puede empezar con un número) |\n",
    "| SUMA_TOTAL | \\$UMA_TOTAL (caracteres especiales como `$` no son permitidos) |\n",
    "| _45 (no recomendado, no es un nombre descriptivo) | 45_ (un nombre no puede empezar con un número) |\n",
    "| saludo | 'saludo' (caracteres especiales como `'` no están permitidos) |\n",
    "\n",
    "</div>\n",
    "\n",
    "El nombre de las variables son sensibles a mayúsculas y minúsculas, esto quiere decir que, `valor`, `VALOR`, `Valor` y `vAlOr` son cuatro diferentes variables. Un acuerdo en Python es, también en la mayoría de los lenguajes de programación, empezar el nombre de una variable con una letra en minúscula.\n",
    "\n",
    "El **snake case**, también conocido como **lowercase_with_underscores**, es una convención de nomenclatura utilizada en programación, en particular en Python, para nombrar variables, funciones y archivos. Consiste en escribir las palabras en minúsculas separadas por guiones bajos (__`_`__).\n",
    "\n",
    "Características principales del snake case:\n",
    "\n",
    "- *Mejora la legibilidad:* Al separar las palabras con guiones bajos, los nombres de variables largos son más fáciles de leer y comprender.\n",
    "\n",
    "- *Consistencia:* Usar snake case de manera consistente en todo tu código mejora la mantenibilidad del código y facilita que otros programadores lo entiendan.\n",
    "\n",
    "- *Convención común:* Snake case es una convención ampliamente utilizada en Python y muchos otros lenguajes de programación.\n",
    "\n",
    "Ejemplos de snake case, para nombres de variables:\n",
    "\n",
    "```python\n",
    "resultado_aproximado\n",
    "ventas_totales\n",
    "calcular_promedio\n",
    "```\n",
    "y para nombre de archivos:\n",
    "```\n",
    "mi_primer_programa_en_python.py\n",
    "```\n",
    "\n",
    "Las constantes en python (también en otros lenguajes de programación) se escriben en mayúsculas usando la convención **snake_case**. Por ejemplo:\n",
    "```python\n",
    "PI = 3.1416\n",
    "GRAVEDAD = 9.81\n",
    "```"
   ]
  },
  {
   "cell_type": "markdown",
   "metadata": {},
   "source": [
    "### 1.5 Palabras Reservadas\n",
    "\n",
    "En los lenguajes de programación existen ciertos nombres que no se pueden utilizar como identificadores debibo a que están restringidas porque forman parte de la estructura y de la sintaxis del lenguaje. En Python las palabras reservadas (_keywords_ en inglés) son:\n",
    "\n",
    "<div style=\"display: flex; justify-content: center;\">\n",
    "\n",
    "|||||\n",
    ":---:|:---:|:---:|:---:|\n",
    "|True|def|if|raise|\n",
    "|None|del|import|return|\n",
    "|False|elif|in|try|\n",
    "|and|else|is|while|\n",
    "|as|except|lambda|with|\n",
    "|assert|finally|nonlocal|yield|\n",
    "|break|for|not||\n",
    "|class|form|or||\n",
    "|continue|global|pass||\n",
    "\n",
    "</div>\n",
    "\n",
    "Estas palabras no se pueden utilizar para nombrar __variables__, __funciones__ o __clases__."
   ]
  },
  {
   "cell_type": "markdown",
   "metadata": {},
   "source": [
    "### 1.6 Escribamos nuestro primer programa"
   ]
  },
  {
   "cell_type": "markdown",
   "metadata": {},
   "source": [
    "Ya es momento de crear nuestro primer programa en python. En la celda de código que aparece a continuación escribe las siguientes expresiones:\n",
    "\n",
    "```python\n",
    "# Este programa saluda y pregunta mi nombre.\n",
    "\n",
    "print('¡Hola, mundo!')\n",
    "print('¿Cuál es tu nombre?')            # Pregunta por tu nombre\n",
    "mi_nombre = input()\n",
    "print('Me da mucho gusto conocerte, ' + mi_nombre)\n",
    "print('La longitud de tu nombre es: ')\n",
    "print(len(mi_nombre))\n",
    "print('¿Cuál es tu edad?')              # Pregunta por tu edad\n",
    "mi_edad = input()\n",
    "print('Tu en un año tendrás ' + str(int(mi_edad) + 1) + ' años')\n",
    "\n",
    "```"
   ]
  },
  {
   "cell_type": "code",
   "execution_count": null,
   "metadata": {},
   "outputs": [],
   "source": []
  },
  {
   "cell_type": "markdown",
   "metadata": {},
   "source": [
    "Expliquemos el código anterior:\n",
    "\n",
    "__Comentarios__\n",
    "La siguiente línea es un _comentario_:\n",
    "```python\n",
    "# Este programa saluda y pregunta mi nombre.\n",
    "```\n",
    "Python, y cualquier otro lenguaje de programación, ignora los comentarios y se utilizan para describir lo que hace el código o para marcar recordatorios sobre que falta hacer en el código. Cualquier texto que vaya después del caracter `#` es parte del comentario y es ignorado por python, por ejemplo:\n",
    "```python\n",
    "print('¿Cuál es tu nombre?')            # Pregunta por tu nombre\n",
    "```\n",
    "\n",
    "Los comentarios también pueden ser utiles para comentar líneas de código que no deseamos utilizar en el momento pero que tampoco queremos borrar:"
   ]
  },
  {
   "cell_type": "code",
   "execution_count": 1,
   "metadata": {},
   "outputs": [],
   "source": [
    "variable = 'Comentando líneas de código'\n",
    "# print(variable)"
   ]
  },
  {
   "cell_type": "markdown",
   "metadata": {},
   "source": [
    "Las líneas en blanco también son ignoradas por los lenguajes de programación y python no es la excepción. Se pueden agregar las líneas en blanco que sean necesarias con la finalidad de que el código sea más fácil de leer.\n",
    "\n",
    "__La función `print()`__\n",
    "\n",
    "Esta función muestra en la pantalla la cadena de texto que contiene dentro de sus paréntesis:\n",
    "\n",
    "> __Nota__  \n",
    "> Observe que las comillas `' '` no se imprimen en pantalla, ellas se usan solo para delimitar donde empieza y termina la cadena de texto; no forman parte del texto."
   ]
  },
  {
   "cell_type": "code",
   "execution_count": 2,
   "metadata": {},
   "outputs": [
    {
     "name": "stdout",
     "output_type": "stream",
     "text": [
      "¡Hola, Mundo!\n"
     ]
    }
   ],
   "source": [
    "print('¡Hola, Mundo!')"
   ]
  },
  {
   "cell_type": "markdown",
   "metadata": {},
   "source": [
    "Cuando Python ejecuta la expresión anterior, se dice que _Python llama a la función `print()`_ y también se dice que _la candena de texto es pasada a la función_. Un valor o variable que es pasada a una función se le conoce como _argumento_. \n",
    "\n",
    "También es importante no olvidar que cualquier expresión siempre se evalua a un único valor. Supongamos que tenemos la siguiente variable `nombre = 'Alfredo'` y ahora observa lo siguiente:\n",
    "\n",
    "Primero, tenemos la siguiente expresión:\n",
    "```python\n",
    "print('Es un gusto conocerte, ' + nombre)\n",
    "```\n",
    "\n",
    "Python internamente transforma la expresión:\n",
    "```python\n",
    "'Es un gusto conocerte, ' + nombre\n",
    "```\n",
    "en un solo valor:\n",
    "```python\n",
    "'Es un gusto conocerte, Alfredo')\n",
    "```\n",
    "para luego pasarsela a la función `print`:\n",
    "```python\n",
    "print('Es un gusto conocerte, Alfredo')\n",
    "```\n",
    "y finalmente se muestre en pantalla:\n",
    "```shell\n",
    "Es un gusto conocerte, Alfredo\n",
    "```"
   ]
  },
  {
   "cell_type": "code",
   "execution_count": 5,
   "metadata": {},
   "outputs": [
    {
     "name": "stdout",
     "output_type": "stream",
     "text": [
      "Es un gusto conocerte, Alfredo\n"
     ]
    }
   ],
   "source": [
    "nombre = 'Alfredo'\n",
    "print('Es un gusto conocerte, ' + nombre)"
   ]
  },
  {
   "cell_type": "markdown",
   "metadata": {},
   "source": [
    "__La función `input()`__  \n",
    "Con esta función se puede solicitar a un usuario que ingrese datos mediante el teclado, puede ser texto, números o una combinación de ambos; la información ingresada por el usuario es convertida a una sola cadena de texto y ésta puede almacenarse en una variable:"
   ]
  },
  {
   "cell_type": "code",
   "execution_count": 29,
   "metadata": {},
   "outputs": [],
   "source": [
    "texto = input()"
   ]
  },
  {
   "cell_type": "code",
   "execution_count": 30,
   "metadata": {},
   "outputs": [
    {
     "data": {
      "text/plain": [
       "'Hola soy texto.'"
      ]
     },
     "execution_count": 30,
     "metadata": {},
     "output_type": "execute_result"
    }
   ],
   "source": [
    "texto"
   ]
  },
  {
   "cell_type": "code",
   "execution_count": 31,
   "metadata": {},
   "outputs": [],
   "source": [
    "numeros = input()"
   ]
  },
  {
   "cell_type": "code",
   "execution_count": 32,
   "metadata": {},
   "outputs": [
    {
     "data": {
      "text/plain": [
       "'2345'"
      ]
     },
     "execution_count": 32,
     "metadata": {},
     "output_type": "execute_result"
    }
   ],
   "source": [
    "numeros"
   ]
  },
  {
   "cell_type": "code",
   "execution_count": 33,
   "metadata": {},
   "outputs": [],
   "source": [
    "alfanumerico = input()"
   ]
  },
  {
   "cell_type": "code",
   "execution_count": 34,
   "metadata": {},
   "outputs": [
    {
     "data": {
      "text/plain": [
       "'Veinte: 20'"
      ]
     },
     "execution_count": 34,
     "metadata": {},
     "output_type": "execute_result"
    }
   ],
   "source": [
    "alfanumerico"
   ]
  },
  {
   "cell_type": "markdown",
   "metadata": {},
   "source": [
    "> __Importante__  \n",
    "> Cualquier valor numérico que sea ingresado mediante la función `input()` se almacena como su representación en cadena de texto."
   ]
  },
  {
   "cell_type": "markdown",
   "metadata": {},
   "source": [
    "__La función `len()`__  \n",
    "Esta función recibe como argumento una cadena de texto (str), o una variable que almacene una cadena de texto, y la función regresa un valor númerico entero que representa el número de caracteres que contiene la cadena de texto que se le ha pasado a la función `len()`. Vease el ejemplo siguiente:"
   ]
  },
  {
   "cell_type": "code",
   "execution_count": 1,
   "metadata": {},
   "outputs": [
    {
     "data": {
      "text/plain": [
       "7"
      ]
     },
     "execution_count": 1,
     "metadata": {},
     "output_type": "execute_result"
    }
   ],
   "source": [
    "len('Alfredo')"
   ]
  },
  {
   "cell_type": "markdown",
   "metadata": {},
   "source": [
    "La cadena de texto vacía `''` tiene asignado un valor numérico:"
   ]
  },
  {
   "cell_type": "code",
   "execution_count": 2,
   "metadata": {},
   "outputs": [
    {
     "data": {
      "text/plain": [
       "0"
      ]
     },
     "execution_count": 2,
     "metadata": {},
     "output_type": "execute_result"
    }
   ],
   "source": [
    "len('')"
   ]
  },
  {
   "cell_type": "markdown",
   "metadata": {},
   "source": [
    "El carácter de espacio `' '` (no confundir con la cadena vacía) también se le asigna un valor númerico:"
   ]
  },
  {
   "cell_type": "code",
   "execution_count": 3,
   "metadata": {},
   "outputs": [
    {
     "data": {
      "text/plain": [
       "1"
      ]
     },
     "execution_count": 3,
     "metadata": {},
     "output_type": "execute_result"
    }
   ],
   "source": [
    "len(' ')"
   ]
  },
  {
   "cell_type": "markdown",
   "metadata": {},
   "source": [
    "Recordemos la siguiente expresión y el error que presenta:"
   ]
  },
  {
   "cell_type": "code",
   "execution_count": 4,
   "metadata": {},
   "outputs": [
    {
     "ename": "TypeError",
     "evalue": "can only concatenate str (not \"int\") to str",
     "output_type": "error",
     "traceback": [
      "\u001b[0;31m---------------------------------------------------------------------------\u001b[0m",
      "\u001b[0;31mTypeError\u001b[0m                                 Traceback (most recent call last)",
      "Cell \u001b[0;32mIn[4], line 1\u001b[0m\n\u001b[0;32m----> 1\u001b[0m texto \u001b[38;5;241m=\u001b[39m \u001b[38;5;124m'\u001b[39m\u001b[38;5;124mYo tengo \u001b[39m\u001b[38;5;124m'\u001b[39m \u001b[38;5;241m+\u001b[39m \u001b[38;5;241m29\u001b[39m \u001b[38;5;241m+\u001b[39m \u001b[38;5;124m'\u001b[39m\u001b[38;5;124m años de edad.\u001b[39m\u001b[38;5;124m'\u001b[39m\n",
      "\u001b[0;31mTypeError\u001b[0m: can only concatenate str (not \"int\") to str"
     ]
    }
   ],
   "source": [
    "texto = 'Yo tengo ' + 29 + ' años de edad.'"
   ]
  },
  {
   "cell_type": "markdown",
   "metadata": {},
   "source": [
    "Ahora se verá como solucionarlo. Si se quiere concatenar un valor númerico como `29` a una cadena de texto, como se quiere hacer en la expresión anterior, se necesita la representación en cadena de texto del número a usar, es decir, del número `29` se obtiene su forma en cadena de texto que es `'29'`, para hacer esto se usa la función `str()` a la cual se le pasa un valor numérico (entero o flotante) y devuelve la versión en cadena de texto del número proporcionado, vease estos ejemplos:"
   ]
  },
  {
   "cell_type": "code",
   "execution_count": null,
   "metadata": {},
   "outputs": [
    {
     "data": {
      "text/plain": [
       "'29.9'"
      ]
     },
     "execution_count": 18,
     "metadata": {},
     "output_type": "execute_result"
    }
   ],
   "source": [
    "# Se le pasa a str() un número flotante\n",
    "str(29.9)"
   ]
  },
  {
   "cell_type": "code",
   "execution_count": null,
   "metadata": {},
   "outputs": [
    {
     "data": {
      "text/plain": [
       "'34'"
      ]
     },
     "execution_count": 19,
     "metadata": {},
     "output_type": "execute_result"
    }
   ],
   "source": [
    "# Se le pasa a str() un número entero\n",
    "str(34)"
   ]
  },
  {
   "cell_type": "markdown",
   "metadata": {},
   "source": [
    "Ahora se pude corregir el ejemplo anterior usando la función `str()`:"
   ]
  },
  {
   "cell_type": "code",
   "execution_count": 8,
   "metadata": {},
   "outputs": [],
   "source": [
    "texto = 'Yo tengo ' + str(29) + ' años de edad.'"
   ]
  },
  {
   "cell_type": "markdown",
   "metadata": {},
   "source": [
    "Ya no se obtiene el error: \n",
    "```python\n",
    "---------------------------------------------------------------------------\n",
    "TypeError                                 Traceback (most recent call last)\n",
    "Cell In[4], line 1\n",
    "----> 1 texto = 'Yo tengo ' + 29 + ' años de edad.'\n",
    "\n",
    "TypeError: can only concatenate str (not \"int\") to str\n",
    "```\n",
    "\n",
    "y se obtiene la cadena de texto completa:"
   ]
  },
  {
   "cell_type": "code",
   "execution_count": 20,
   "metadata": {},
   "outputs": [
    {
     "data": {
      "text/plain": [
       "'Yo tengo 29 años de edad.'"
      ]
     },
     "execution_count": 20,
     "metadata": {},
     "output_type": "execute_result"
    }
   ],
   "source": [
    "texto"
   ]
  },
  {
   "cell_type": "markdown",
   "metadata": {},
   "source": [
    "También se puede convertir la representación en cadena de texto de un número a su valor numérico, números enteros a números flotantes y números flotantes a números enteros, mediante las funciones `int()` y `float()`."
   ]
  },
  {
   "cell_type": "markdown",
   "metadata": {},
   "source": [
    "La función `int()` puede convertir a números enteros, la representación en cadena de texto de números enteros positivos y la representación en cadena de texto de números enteros negativos:"
   ]
  },
  {
   "cell_type": "code",
   "execution_count": 10,
   "metadata": {},
   "outputs": [
    {
     "data": {
      "text/plain": [
       "42"
      ]
     },
     "execution_count": 10,
     "metadata": {},
     "output_type": "execute_result"
    }
   ],
   "source": [
    "int('42')"
   ]
  },
  {
   "cell_type": "code",
   "execution_count": 11,
   "metadata": {},
   "outputs": [
    {
     "data": {
      "text/plain": [
       "-99"
      ]
     },
     "execution_count": 11,
     "metadata": {},
     "output_type": "execute_result"
    }
   ],
   "source": [
    "int('-99')"
   ]
  },
  {
   "cell_type": "markdown",
   "metadata": {},
   "source": [
    "La función `int()` no puede convertir a su valor númerico la representación en cadena de texto de un número flotante:"
   ]
  },
  {
   "cell_type": "code",
   "execution_count": 12,
   "metadata": {},
   "outputs": [
    {
     "ename": "ValueError",
     "evalue": "invalid literal for int() with base 10: '3.4'",
     "output_type": "error",
     "traceback": [
      "\u001b[0;31m---------------------------------------------------------------------------\u001b[0m",
      "\u001b[0;31mValueError\u001b[0m                                Traceback (most recent call last)",
      "Cell \u001b[0;32mIn[12], line 1\u001b[0m\n\u001b[0;32m----> 1\u001b[0m \u001b[38;5;28mint\u001b[39m(\u001b[38;5;124m'\u001b[39m\u001b[38;5;124m3.4\u001b[39m\u001b[38;5;124m'\u001b[39m)\n",
      "\u001b[0;31mValueError\u001b[0m: invalid literal for int() with base 10: '3.4'"
     ]
    }
   ],
   "source": [
    "int('3.4')"
   ]
  },
  {
   "cell_type": "markdown",
   "metadata": {},
   "source": [
    "Sin embargo, la función `int()` si puede convertir un número flotante en un número entero. La función `int()` toma el valor entero de un número flotante y descarta las cifras que están a la derecha del punto:"
   ]
  },
  {
   "cell_type": "code",
   "execution_count": 17,
   "metadata": {},
   "outputs": [
    {
     "data": {
      "text/plain": [
       "2"
      ]
     },
     "execution_count": 17,
     "metadata": {},
     "output_type": "execute_result"
    }
   ],
   "source": [
    "int(2.943)"
   ]
  },
  {
   "cell_type": "markdown",
   "metadata": {},
   "source": [
    "Con la función `float()` se puede obtener el valor númerico de la representación en cadena de texto, tanto positivo como negativo, de un número flotante:"
   ]
  },
  {
   "cell_type": "code",
   "execution_count": 13,
   "metadata": {},
   "outputs": [
    {
     "data": {
      "text/plain": [
       "3.556"
      ]
     },
     "execution_count": 13,
     "metadata": {},
     "output_type": "execute_result"
    }
   ],
   "source": [
    "float('3.556')"
   ]
  },
  {
   "cell_type": "code",
   "execution_count": 15,
   "metadata": {},
   "outputs": [
    {
     "data": {
      "text/plain": [
       "-3.6235"
      ]
     },
     "execution_count": 15,
     "metadata": {},
     "output_type": "execute_result"
    }
   ],
   "source": [
    "float('-3.6235')"
   ]
  },
  {
   "cell_type": "markdown",
   "metadata": {},
   "source": [
    "A diferencia de la función `int()` que no permite obtener el valor númerico de la representación en cadena de texto de un número flotante, con la función `float()` se tiene la posibilidad de obtener el valor númerico de la representación en cadena de texto de un número entero, pero con una particularidad:"
   ]
  },
  {
   "cell_type": "code",
   "execution_count": 21,
   "metadata": {},
   "outputs": [
    {
     "data": {
      "text/plain": [
       "20.0"
      ]
     },
     "execution_count": 21,
     "metadata": {},
     "output_type": "execute_result"
    }
   ],
   "source": [
    "float('20')"
   ]
  },
  {
   "cell_type": "markdown",
   "metadata": {},
   "source": [
    "Mediante la función `float()` se puede convertir un número entero a un número flotante:"
   ]
  },
  {
   "cell_type": "code",
   "execution_count": 16,
   "metadata": {},
   "outputs": [
    {
     "data": {
      "text/plain": [
       "20.0"
      ]
     },
     "execution_count": 16,
     "metadata": {},
     "output_type": "execute_result"
    }
   ],
   "source": [
    "float(20)"
   ]
  },
  {
   "cell_type": "markdown",
   "metadata": {},
   "source": [
    "Las funciones `int()` y `float()` no tienen la capacidad de obtener valores numéricos provenientes de los nombres de los números:"
   ]
  },
  {
   "cell_type": "code",
   "execution_count": 35,
   "metadata": {},
   "outputs": [
    {
     "ename": "ValueError",
     "evalue": "invalid literal for int() with base 10: 'veinte'",
     "output_type": "error",
     "traceback": [
      "\u001b[0;31m---------------------------------------------------------------------------\u001b[0m",
      "\u001b[0;31mValueError\u001b[0m                                Traceback (most recent call last)",
      "Cell \u001b[0;32mIn[35], line 1\u001b[0m\n\u001b[0;32m----> 1\u001b[0m \u001b[38;5;28mint\u001b[39m(\u001b[38;5;124m'\u001b[39m\u001b[38;5;124mveinte\u001b[39m\u001b[38;5;124m'\u001b[39m)\n",
      "\u001b[0;31mValueError\u001b[0m: invalid literal for int() with base 10: 'veinte'"
     ]
    }
   ],
   "source": [
    "int('veinte')"
   ]
  },
  {
   "cell_type": "code",
   "execution_count": 36,
   "metadata": {},
   "outputs": [
    {
     "ename": "ValueError",
     "evalue": "could not convert string to float: 'tres punto cinco'",
     "output_type": "error",
     "traceback": [
      "\u001b[0;31m---------------------------------------------------------------------------\u001b[0m",
      "\u001b[0;31mValueError\u001b[0m                                Traceback (most recent call last)",
      "Cell \u001b[0;32mIn[36], line 1\u001b[0m\n\u001b[0;32m----> 1\u001b[0m \u001b[38;5;28mfloat\u001b[39m(\u001b[38;5;124m'\u001b[39m\u001b[38;5;124mtres punto cinco\u001b[39m\u001b[38;5;124m'\u001b[39m)\n",
      "\u001b[0;31mValueError\u001b[0m: could not convert string to float: 'tres punto cinco'"
     ]
    }
   ],
   "source": [
    "float('tres punto cinco')"
   ]
  },
  {
   "cell_type": "markdown",
   "metadata": {},
   "source": [
    "Falta analizar la última línea de nuestro primer programa:\n",
    "```python\n",
    "mi_edad = input()\n",
    "print('Tu en un año tendrás ' + str(int(mi_edad) + 1) + ' años')\n",
    "```\n",
    "Como se vio anteriormente cuando revisamos como trabaja la función `input()`, el valor guardado en la variable `mi_edad` es la representación en cadena de texto de un número. Para que podamos hacer operaciones aritméticas con este número, tenemos que convertirlo a su valor númerica, para ello se usa la función `int()`, de otra manera se obtendía un error:"
   ]
  },
  {
   "cell_type": "code",
   "execution_count": 40,
   "metadata": {},
   "outputs": [
    {
     "data": {
      "text/plain": [
       "'34'"
      ]
     },
     "execution_count": 40,
     "metadata": {},
     "output_type": "execute_result"
    }
   ],
   "source": [
    "mi_edad = input()\n",
    "mi_edad"
   ]
  },
  {
   "cell_type": "code",
   "execution_count": null,
   "metadata": {},
   "outputs": [
    {
     "ename": "TypeError",
     "evalue": "can only concatenate str (not \"int\") to str",
     "output_type": "error",
     "traceback": [
      "\u001b[0;31m---------------------------------------------------------------------------\u001b[0m",
      "\u001b[0;31mTypeError\u001b[0m                                 Traceback (most recent call last)",
      "Cell \u001b[0;32mIn[41], line 2\u001b[0m\n\u001b[1;32m      1\u001b[0m \u001b[38;5;66;03m# Operación aritmética sin realizar la conversión a de cadena de texto a número:\u001b[39;00m\n\u001b[0;32m----> 2\u001b[0m mi_edad \u001b[38;5;241m+\u001b[39m \u001b[38;5;241m1\u001b[39m\n",
      "\u001b[0;31mTypeError\u001b[0m: can only concatenate str (not \"int\") to str"
     ]
    }
   ],
   "source": [
    "# Operación aritmética sin realizar la conversión de cadena de texto a número:\n",
    "mi_edad + 1\n",
    "# '34' + 1 ! "
   ]
  },
  {
   "cell_type": "code",
   "execution_count": null,
   "metadata": {},
   "outputs": [
    {
     "data": {
      "text/plain": [
       "35"
      ]
     },
     "execution_count": 42,
     "metadata": {},
     "output_type": "execute_result"
    }
   ],
   "source": [
    "# Operación aritmética realizando la conversión de cadena de texto a número:\n",
    "int(mi_edad) + 1\n",
    "# 34 + 1\n",
    "# 35"
   ]
  },
  {
   "cell_type": "markdown",
   "metadata": {},
   "source": [
    "Bueno ya realizamos la operación aritmética requerida: calcular la edad dentro de un año; el resultado se necesita concatenar a la oración:"
   ]
  },
  {
   "cell_type": "code",
   "execution_count": 45,
   "metadata": {},
   "outputs": [
    {
     "ename": "TypeError",
     "evalue": "can only concatenate str (not \"int\") to str",
     "output_type": "error",
     "traceback": [
      "\u001b[0;31m---------------------------------------------------------------------------\u001b[0m",
      "\u001b[0;31mTypeError\u001b[0m                                 Traceback (most recent call last)",
      "Cell \u001b[0;32mIn[45], line 1\u001b[0m\n\u001b[0;32m----> 1\u001b[0m \u001b[38;5;124m'\u001b[39m\u001b[38;5;124mTu en un año tendrás \u001b[39m\u001b[38;5;124m'\u001b[39m \u001b[38;5;241m+\u001b[39m (\u001b[38;5;28mint\u001b[39m(mi_edad) \u001b[38;5;241m+\u001b[39m \u001b[38;5;241m1\u001b[39m) \u001b[38;5;241m+\u001b[39m \u001b[38;5;124m'\u001b[39m\u001b[38;5;124m años\u001b[39m\u001b[38;5;124m'\u001b[39m\n",
      "\u001b[0;31mTypeError\u001b[0m: can only concatenate str (not \"int\") to str"
     ]
    }
   ],
   "source": [
    "'Tu en un año tendrás ' + (int(mi_edad) + 1) + ' años'"
   ]
  },
  {
   "cell_type": "markdown",
   "metadata": {},
   "source": [
    "¿Qué hace falta para que funcione la expresión anterior?"
   ]
  },
  {
   "cell_type": "code",
   "execution_count": null,
   "metadata": {},
   "outputs": [
    {
     "data": {
      "text/plain": [
       "'Tu en un año tendrás 35 años'"
      ]
     },
     "execution_count": 46,
     "metadata": {},
     "output_type": "execute_result"
    }
   ],
   "source": []
  },
  {
   "cell_type": "markdown",
   "metadata": {},
   "source": [
    "Ademas de los notebooks se puede utilizar un __Editor de código__  o un __Entorno de Desarrollo Integrado__ para escribir y ejecutar programas hechos con python. Escríbase el código de nuestro primer programa en un editor de código y ejecútese. "
   ]
  },
  {
   "cell_type": "markdown",
   "metadata": {},
   "source": [
    "## 3. Estructuras de Control\n",
    "\n",
    "Las estructuras de control son bloques de código que permiten controlar el flujo de ejecución de un programa.\n",
    "\n",
    "Las estructuras de control son esenciales para la programación, ya que permiten:\n",
    "\n",
    "- **Modularizar el código:** Dividir el programa en bloques más pequeños y manejables, mejorando la legibilidad y el mantenimiento del código.\n",
    "- **Tomar decisiones:** Permitir al programa responder a diferentes condiciones y situaciones.\n",
    "- **Repetir tareas:** Automatizar la ejecución de tareas repetitivas, ahorrando tiempo y esfuerzo.\n",
    "- **Crear algoritmos complejos:** Combinando diferentes estructuras de control, se pueden crear algoritmos sofisticados para resolver problemas complejos.\n",
    "\n",
    "### Estructuras secuenciales:\n",
    "\n",
    "Las estructuras secuenciales, también conocidas como instrucciones lineales, ejecutan las instrucciones una tras otra en un orden descendente. Es la forma más básica de controlar el flujo del programa. La sintaxis básica es la siguiente:\n",
    "\n",
    "```algorithm\n",
    "    begin\n",
    "        <Instrucción_1>\n",
    "        <Instrucción_2>\n",
    "        <Instrucción_3>\n",
    "              .\n",
    "              .\n",
    "              .\n",
    "        <Instrucción_n>\n",
    "    end\n",
    "```\n",
    "\n",
    "En en lenguaje de programación FORTRAN se usa la siguiente sintaxis:\n",
    "```fortran\n",
    "    PROGRAM <nombre_del_programa>\n",
    "        <Instrucción_1>\n",
    "        <Instrucción_2>\n",
    "        <Instrucción_3>\n",
    "              .\n",
    "              .\n",
    "              .\n",
    "        <Instrucción_n>\n",
    "    END PROGRAM\n",
    "```\n",
    "Python no usa sentencias especiales para delimitar sus estructuras secuenciales."
   ]
  },
  {
   "cell_type": "code",
   "execution_count": 43,
   "metadata": {},
   "outputs": [
    {
     "name": "stdout",
     "output_type": "stream",
     "text": [
      "El área del círculo de radio = 6.4 es igual a 128.67993600000003\n"
     ]
    }
   ],
   "source": [
    "# Ejemplo en python:\n",
    "\n",
    "PI = 3.1416     #! Constantes en mayúsculas\n",
    "radio = 6.4\n",
    "radio_cuadrado = radio**2\n",
    "area_circulo = PI * radio_cuadrado\n",
    "print(f\"El área del círculo de radio = {radio} es igual a {area_circulo}\")"
   ]
  },
  {
   "cell_type": "markdown",
   "metadata": {},
   "source": [
    "### Estructuras selectivas\n",
    "\n",
    "Las estructuras **selectivas**, también conocidas como **condicionales**, permiten al programa tomar decisiones en función de una o más condiciones. Permiten ejecutar diferentes bloques de código según el resultado de la evaluación de la condición.\n",
    "\n",
    "Las estructuras selectivas más comunes son:\n",
    "\n",
    "- Instrucción **if**: Evalúa una condición y ejecuta un bloque de código si la condición es verdadera. La sintaxis es la siguiente:\n",
    "```algoritmos\n",
    "    if <condición> then\n",
    "        <bloque_de_código>\n",
    "    endIf\n",
    "```\n",
    "\n",
    "La estructura ```if``` en el lenguaje de programación C se escribe como:\n",
    "```c\n",
    "    if (<condición>)\n",
    "    {\n",
    "        <bloque_de_código>\n",
    "    }\n",
    "```\n",
    "La sintaxis en python es:\n",
    "\n",
    "```python\n",
    "if <condición>:\n",
    "    <bloque_de_código>\n",
    "```"
   ]
  },
  {
   "cell_type": "code",
   "execution_count": 44,
   "metadata": {},
   "outputs": [
    {
     "name": "stdout",
     "output_type": "stream",
     "text": [
      "Hasta luego.\n",
      "Se ejecutan otras instrucciones...\n"
     ]
    }
   ],
   "source": [
    "comando = \"salir\"\n",
    "CODIGO_DE_SALIDA = \"salir\"\n",
    "\n",
    "if comando == CODIGO_DE_SALIDA:\n",
    "    print(\"Hasta luego.\")\n",
    "\n",
    "print(\"Se ejecutan otras instrucciones...\")"
   ]
  },
  {
   "cell_type": "markdown",
   "metadata": {},
   "source": [
    "- Instrucción **if - else**: Evalúa una condición y ejecuta un bloque de código si la condición es verdadera, y otro bloque de código si la condición es falsa. Su sintaxis general es la siguiente:\n",
    "\n",
    "```algorithm\n",
    "    if <condición> then\n",
    "        <bloque de código 1>\n",
    "    else\n",
    "        <bloque de código 2>\n",
    "    endIf\n",
    "```\n",
    "FORTRAN utiliza esta sintaxis:\n",
    "```fortran\n",
    "    IF (<condición>) THEN\n",
    "        <bloque_de_código>\n",
    "    ELSE\n",
    "        <bloque_de_código>\n",
    "    END IF\n",
    "```\n",
    "La sintaxis para python es:\n",
    "```python\n",
    "    if <condición>:\n",
    "        <bloque de código 1>\n",
    "    else:\n",
    "        <bloque de código 2>\n",
    "```"
   ]
  },
  {
   "cell_type": "code",
   "execution_count": 45,
   "metadata": {},
   "outputs": [
    {
     "name": "stdout",
     "output_type": "stream",
     "text": [
      "Aún no eres mayor de edad.\n",
      "Se ejecutan otras instrucciones...\n"
     ]
    }
   ],
   "source": [
    "edad = 13\n",
    "EDAD_PARA_VOTAR = 18\n",
    "\n",
    "if edad >= EDAD_PARA_VOTAR:\n",
    "    print(\"Ya puedes tramitar tu INE.\")\n",
    "else:\n",
    "    print(\"Aún no eres mayor de edad.\")\n",
    "\n",
    "print(\"Se ejecutan otras instrucciones...\")"
   ]
  },
  {
   "cell_type": "markdown",
   "metadata": {},
   "source": [
    "- Instrucción **if - elif - else**: Evalúa una o más condiciones y ejecuta el bloque de código correspondiente si la condición es verdadera, o evalúa el bloque de código **else** si ninguna de las condiciones anteriores se cumplió. La sintaxis general es la siguiente:\n",
    "\n",
    "```algorithm\n",
    "    if <condición> then\n",
    "        <bloque de código 1>\n",
    "    else if <condición> then\n",
    "        <bloque de código 2>\n",
    "    else if <condición> then\n",
    "        <bloque de código 3>\n",
    "                .\n",
    "                .\n",
    "                .\n",
    "    else\n",
    "        <bloque de código n>\n",
    "    endIf\n",
    "```\n",
    "\n",
    "El lenguaje C adopta la siguiente sintaxis:\n",
    "```c\n",
    "    if (<condición>)\n",
    "    {\n",
    "        <bloque_de_código>\n",
    "    } else if (<condición>)\n",
    "    {\n",
    "        <bloque_de_código>\n",
    "    } else if (<condición>)\n",
    "               .\n",
    "               .\n",
    "               .\n",
    "    else \n",
    "    {\n",
    "        <bloque_de_código>\n",
    "    }\n",
    "```\n",
    "\n",
    "La sintaxis que utiliza python es:\n",
    "\n",
    "```python\n",
    "    if condicion:\n",
    "        <bloque de código 1>\n",
    "    elif:\n",
    "        <bloque de código 2>\n",
    "    elif:\n",
    "        <bloque de código 3>\n",
    "                .\n",
    "                .\n",
    "                .\n",
    "    else:\n",
    "        <bloque de código n>\n",
    "```"
   ]
  },
  {
   "cell_type": "code",
   "execution_count": 46,
   "metadata": {},
   "outputs": [
    {
     "name": "stdout",
     "output_type": "stream",
     "text": [
      "Tu costo de admisión es de $15 pesos.\n"
     ]
    }
   ],
   "source": [
    "edad = 66\n",
    "costo_boleto = 0\n",
    "\n",
    "if edad < 14:\n",
    "    costo_boleto = 5\n",
    "elif edad < 18:\n",
    "    costo_boleto = 10\n",
    "elif edad < 65:\n",
    "    costo_boleto = 20\n",
    "else:\n",
    "    costo_boleto = 15\n",
    "\n",
    "print(f\"Tu costo de admisión es de ${costo_boleto} pesos.\")"
   ]
  },
  {
   "cell_type": "markdown",
   "metadata": {},
   "source": [
    "### Estructuras Iterativas en Python\n",
    "\n",
    "Las estructuras iterativas, también conocidas como **bucles** o **ciclos**, son bloques de código que permiten repetir un conjunto de instrucciones un número determinado de veces o hasta que se cumpla una condición. Son herramientas fundamentales para automatizar tareas repetitivas y crear algoritmos complejos.\n",
    "\n",
    "Tipos de estructuras iterativas:\n",
    "\n",
    "- Bucle **while**:\n",
    "\n",
    "El bucle while se utiliza para repetir un bloque de código mientras se cumpla una condición. La sintaxis básica del bucle while es la siguiente:\n",
    "\n",
    "```algoritmos\n",
    "    while <condición> do\n",
    "        <bloque de código>\n",
    "    endWhile\n",
    "```\n",
    "La sintaxis del ciclo **while** en Python es:\n",
    "```python\n",
    "    while <condición>:\n",
    "        <bloque de código>\n"
   ]
  },
  {
   "cell_type": "code",
   "execution_count": 47,
   "metadata": {},
   "outputs": [
    {
     "name": "stdout",
     "output_type": "stream",
     "text": [
      "1\n",
      "2\n",
      "3\n",
      "4\n",
      "5\n",
      "6\n",
      "7\n",
      "8\n",
      "9\n"
     ]
    }
   ],
   "source": [
    "i = 1\n",
    "\n",
    "while i < 10:\n",
    "    print(i)\n",
    "    i += 1      #! La condición de salida es importante"
   ]
  },
  {
   "cell_type": "markdown",
   "metadata": {},
   "source": [
    "Todo bucle while necesita una forma de dejar de ejecutarse para que no siga ejecutándose eternamente. Todo programador escribe accidentalmente un bucle while infinito de vez en cuando, especialmente cuando los bucles de un programa tienen sutiles condiciones de salida. Si su programa se queda atascado en un bucle infinito, pulse ```CTRL-C``` o simplemente cierre la ventana del terminal que muestra la salida de su programa. \n",
    "\n",
    "Para evitar escribir bucles infinitos, prueba cada bucle while y asegúrate de que el bucle se detiene cuando esperas que lo haga. Si el programa no termina, escudriñe la forma en que su programa maneja el valor que debería causar la salida del bucle. Asegúrese de que al menos una parte del programa puede hacer que la condición del bucle sea ```False```."
   ]
  },
  {
   "cell_type": "code",
   "execution_count": 48,
   "metadata": {},
   "outputs": [
    {
     "name": "stdout",
     "output_type": "stream",
     "text": [
      "exit\n"
     ]
    }
   ],
   "source": [
    "console = \"\\nDime algo, te lo voy a repetir:\"\n",
    "console += \"\\nEscribe 'exit' para salir de la aplicación. \"\n",
    "message = \"\"\n",
    "while message != 'exit':\n",
    "    message = input(console)\n",
    "    print(message)"
   ]
  },
  {
   "cell_type": "markdown",
   "metadata": {},
   "source": [
    "#### Sentencia ```break```\n",
    "\n",
    "Para salir de un bucle while inmediatamente sin ejecutar ningún código restante en el bucle, independientemente de los resultados de cualquier prueba condicional, utilice la sentencia ```break```. La sentencia ```break``` dirige el flujo de tu programa dentro del bucle; puedes usarla para controlar qué líneas de código se ejecutan y cuáles no, de forma que el programa sólo ejecute el código que tú quieras, cuando tú quieras."
   ]
  },
  {
   "cell_type": "code",
   "execution_count": 49,
   "metadata": {},
   "outputs": [
    {
     "name": "stdout",
     "output_type": "stream",
     "text": [
      "1\n",
      "2\n",
      "3\n"
     ]
    }
   ],
   "source": [
    "i = 1\n",
    "\n",
    "while i < 10:\n",
    "\n",
    "    if i % 4 == 0:\n",
    "        break\n",
    "\n",
    "    print(i)\n",
    "    i += 1 "
   ]
  },
  {
   "cell_type": "code",
   "execution_count": 50,
   "metadata": {},
   "outputs": [
    {
     "name": "stdout",
     "output_type": "stream",
     "text": [
      "10\n"
     ]
    }
   ],
   "source": [
    "console = \"\\nEjemplo de uso de la sentencia break.\"\n",
    "console += \"\\nEnter a integer number. \"\n",
    "\n",
    "while True:\n",
    "    number = int(input(console))\n",
    "    print(number)\n",
    "    if number == 10:\n",
    "        break"
   ]
  },
  {
   "cell_type": "code",
   "execution_count": 51,
   "metadata": {},
   "outputs": [],
   "source": [
    "console = \"\\nPlease enter the name of a city you have visited:\"\n",
    "console += \"\\n(Enter 'exit' when you are finished.) \"\n",
    "\n",
    "while True:\n",
    "    city = input(console)\n",
    "    if city == 'exit':\n",
    "        break\n",
    "    else:\n",
    "        print(f\"I'd love to go to {city.title()}!\")"
   ]
  },
  {
   "cell_type": "markdown",
   "metadata": {},
   "source": [
    "#### Sentencia ```continue```\n",
    "\n",
    "En lugar de salir completamente de un bucle sin ejecutar el resto de su código, puede utilizar la sentencia ```continue``` para volver al principio del bucle, basándose en el resultado de una prueba condicional."
   ]
  },
  {
   "cell_type": "code",
   "execution_count": 52,
   "metadata": {},
   "outputs": [
    {
     "name": "stdout",
     "output_type": "stream",
     "text": [
      "1\n",
      "2\n",
      "3\n",
      "5\n",
      "6\n",
      "7\n",
      "9\n",
      "10\n"
     ]
    }
   ],
   "source": [
    "i = 0\n",
    "\n",
    "while i < 10:\n",
    "\n",
    "    i += 1 \n",
    "\n",
    "    if i % 4 == 0:\n",
    "        continue\n",
    "\n",
    "    print(i)\n"
   ]
  },
  {
   "cell_type": "markdown",
   "metadata": {},
   "source": [
    "- Bucle **for**:\n",
    "\n",
    "El bucle ```for``` se utiliza para repetir un bloque de código un número determinado de veces, especificado por una secuencia o un rango. La sintaxis básica del bucle ```for``` es la siguiente:\n",
    "\n",
    "```algorithm\n",
    "    for <variable> <- <valor inicial> to <valor final>\n",
    "        <bloque de código>\n",
    "    endFor\n",
    "```\n",
    "\n",
    "Ejemplo de bucle ```for``` en el lenguaje java:\n",
    "```java\n",
    "    for (i = 1; i < 10; i += 1) {\n",
    "        <bloque de código que hace algo>\n",
    "    }\n",
    "```\n",
    "\n",
    "La sintaxis del bucle ```for``` en python es:\n",
    "```python\n",
    "    for <variable de iteración> in <secuencia de valores a iterar>:\n",
    "        <bloque de código>\n",
    "```"
   ]
  },
  {
   "cell_type": "code",
   "execution_count": 53,
   "metadata": {},
   "outputs": [
    {
     "name": "stdout",
     "output_type": "stream",
     "text": [
      "1\n",
      "2\n",
      "3\n",
      "4\n",
      "5\n"
     ]
    }
   ],
   "source": [
    "for i in [1, 2, 3, 4, 5]:\n",
    "    print(i)"
   ]
  },
  {
   "cell_type": "markdown",
   "metadata": {},
   "source": [
    "#### Función ```range```\n",
    "\n",
    "La función ```range()``` en Python es una herramienta fundamental para generar secuencias de números enteros de manera eficiente. Se utiliza principalmente en conjunto con bucles ```for``` para iterar sobre una secuencia de números.\n",
    "\n",
    "La sintaxis básica de la función ```range()``` es la siguiente:\n",
    "\n",
    "```python\n",
    "    range(<inicio>, <fin>, <incremento>)\n",
    "```\n",
    "\n",
    "donde:\n",
    "\n",
    "- inicio (opcional): Especifica el valor inicial de la secuencia. Por defecto, es 0.\n",
    "- fin (opcional): Especifica el valor final de la secuencia. No se incluye en la secuencia. Por defecto, es el valor del inicio más el incremento.\n",
    "- incremento (opcional): Especifica la diferencia entre los números consecutivos de la secuencia. Por defecto, es 1."
   ]
  },
  {
   "cell_type": "code",
   "execution_count": 54,
   "metadata": {},
   "outputs": [
    {
     "name": "stdout",
     "output_type": "stream",
     "text": [
      "1\n",
      "3\n",
      "5\n",
      "7\n",
      "9\n"
     ]
    }
   ],
   "source": [
    "for i in range(1, 10, 2):\n",
    "    print(i)"
   ]
  },
  {
   "cell_type": "code",
   "execution_count": 55,
   "metadata": {},
   "outputs": [
    {
     "name": "stdout",
     "output_type": "stream",
     "text": [
      "hola\n",
      "Hola\n",
      "hola\n",
      "HOLA\n",
      "chicos\n",
      "Chicos\n",
      "chicos\n",
      "CHICOS\n",
      "de\n",
      "De\n",
      "de\n",
      "DE\n",
      "ambientales\n",
      "Ambientales\n",
      "ambientales\n",
      "AMBIENTALES\n"
     ]
    }
   ],
   "source": [
    "for string in [\"hola\", \"chicos\", \"de\", \"ambientales\"]:\n",
    "    print(string)\n",
    "    print(string.title())\n",
    "    print(string.lower())\n",
    "    print(string.upper())"
   ]
  },
  {
   "cell_type": "markdown",
   "metadata": {},
   "source": [
    "## 3. Funciones\n",
    "\n",
    "### Definición y llamada de funciones\n",
    "\n",
    "Las funciones son bloques de código con nombre **definidos** para realizar un trabajo específico. Cuando quieras realizar una tarea concreta que hayas definido en una función, *llama* a la función responsable de ella. Si necesitas realizar esa tarea varias veces a lo largo de tu programa, no necesitas escribir todo el código para la misma tarea una y otra vez; simplemente llamas a la función dedicada a manejar esa tarea, y la *llamada* le dice a Python que ejecute el código dentro de la función. El uso de funciones hace que tus programas sean más **fáciles de escribir, leer, probar y corregir**.\n",
    "\n",
    "La sintaxis general de una función es la siguiente:\n",
    "\n",
    "```algorithm\n",
    "    Function <tipo_de_dato_de_retorno> <- <nombre_de_la_función>(<lista_de_parámetros>)\n",
    "\n",
    "        <bloque_de_código>\n",
    "    \n",
    "    endFunction\n",
    "\n",
    "```\n",
    "\n",
    "En python la sintaxis para definir una función es:\n",
    "```python\n",
    "    def <nombre_de_la_función> (<Lista_de_parámetros>):\n",
    "        <bloque_de_código>\n",
    "```\n",
    "\n",
    "Así se define una función en el lenguaje de Rust:\n",
    "```rust\n",
    "    fn <nombre_de_la_función>(<Lista_de_parámetros>) -> <tipo_de_dato_de_retorno> {\n",
    "        <bloque_de_código>\n",
    "    }\n",
    "```\n",
    "Para el lenguaje de programación C se usa la siguiente sintaxis:\n",
    "```c\n",
    "    <tipo_de_dato_de_retorno> <nombre_de_la_función>(<lista_de_parámetros>) \n",
    "    {\n",
    "        <bloque_de_código>\n",
    "    }\n",
    "```"
   ]
  },
  {
   "cell_type": "code",
   "execution_count": 56,
   "metadata": {},
   "outputs": [],
   "source": [
    "# Ejemplo de definición de funciones\n",
    "import math\n",
    "\n",
    "def funcion_para_saludar():\n",
    "    print(\"Hola chicos de ambientales, soy una función\")\n",
    "\n",
    "def funcion_para_saludar_con_argumentos(pon_tu_nombre_aqui):\n",
    "    print(f\"Muchos gusto {pon_tu_nombre_aqui}, te saluda una función\")\n",
    "\n",
    "def calcular_terna_pitagorica(numero_natural_1, numero_natural_2):\n",
    "    valor_a = math.pow(numero_natural_1, 2) - math.pow(numero_natural_2, 2)\n",
    "    valor_b = 2.0 * numero_natural_1 * numero_natural_2\n",
    "    valor_c = math.pow(numero_natural_1, 2) + math.pow(numero_natural_2, 2)\n",
    "    print(f\"La terna pitagórica formada por los números naturales {numero_natural_1} y {numero_natural_2} es\")\n",
    "    print(f\"({valor_a}, {valor_b}, {valor_c})\")"
   ]
  },
  {
   "cell_type": "code",
   "execution_count": 57,
   "metadata": {},
   "outputs": [
    {
     "name": "stdout",
     "output_type": "stream",
     "text": [
      "Hola chicos de ambientales, soy una función\n",
      "Muchos gusto Edwin, te saluda una función\n",
      "La terna pitagórica formada por los números naturales 5 y 3 es\n",
      "(16.0, 30.0, 34.0)\n"
     ]
    }
   ],
   "source": [
    "funcion_para_saludar()\n",
    "funcion_para_saludar_con_argumentos(\"Edwin\")\n",
    "calcular_terna_pitagorica(5, 3)"
   ]
  },
  {
   "cell_type": "markdown",
   "metadata": {},
   "source": [
    "### Parámetros y argumentos\n",
    "\n",
    "En programación, los **parámetros** y los **argumentos** son conceptos fundamentales para entender el funcionamiento de las funciones. Si bien están estrechamente relacionados, tienen roles y características distintivas.\n",
    "\n",
    "Parámetros: Los parámetros son las variables que se definen en la declaración de una función. Son como espacios reservados que esperan recibir valores cuando la función sea llamada. Se encuentran dentro de los paréntesis cuando se define la función.\n",
    "\n",
    "Argumentos: Los argumentos son los valores que se pasan a una función cuando esta es llamada. Son los valores que se \"llenan\" en los espacios reservados de los parámetros. Se encuentran en los paréntesis cuando se llama a la función."
   ]
  },
  {
   "cell_type": "markdown",
   "metadata": {},
   "source": [
    "### Paso de argumentos.\n",
    "\n",
    "Existen dos formas principales de pasar argumentos a una función:\n",
    "\n",
    "- **Paso por valor**: En este caso, se copia el valor del argumento a la variable del parámetro dentro de la función. Cualquier modificación que se haga a la variable del parámetro dentro de la función no afecta al valor original del argumento.\n",
    "\n",
    "- **Paso por referencia**: En este caso, se pasa la referencia (dirección de memoria) de la variable del argumento a la variable del parámetro dentro de la función. Cualquier modificación que se haga a la variable del parámetro dentro de la función también modifica el valor original del argumento."
   ]
  },
  {
   "cell_type": "code",
   "execution_count": 58,
   "metadata": {},
   "outputs": [
    {
     "name": "stdout",
     "output_type": "stream",
     "text": [
      "5\n",
      "5\n"
     ]
    }
   ],
   "source": [
    "variable = 5\n",
    "def modificar_valor(variable):\n",
    "    variable *= 2\n",
    "# ---------------------------------\n",
    "print(variable)\n",
    "modificar_valor(variable)\n",
    "print(variable)"
   ]
  },
  {
   "cell_type": "code",
   "execution_count": 59,
   "metadata": {},
   "outputs": [
    {
     "name": "stdout",
     "output_type": "stream",
     "text": [
      "[1, 2, 3]\n",
      "[2, 4, 6]\n"
     ]
    }
   ],
   "source": [
    "list = [1, 2, 3]\n",
    "def modificar_valor(list):\n",
    "    for i in range(3):\n",
    "        list[i] *= 2\n",
    "# ---------------------------------\n",
    "print(list)\n",
    "modificar_valor(list)\n",
    "print(list)"
   ]
  },
  {
   "cell_type": "code",
   "execution_count": 60,
   "metadata": {},
   "outputs": [],
   "source": [
    "# list = [1, 2, 3]\n",
    "# for i in range(len(list)):\n",
    "#     print(list[i])\n",
    "\n",
    "# for i,n in enumerate(list):\n",
    "#     print(f\"i = {i} y n = {n}.\")"
   ]
  },
  {
   "cell_type": "markdown",
   "metadata": {},
   "source": [
    "### Recuperación de valores\n",
    "\n",
    "Una función no siempre tiene que mostrar su salida directamente. En su lugar, puede procesar algunos datos y luego devolver un valor o conjunto de valores. El valor que devuelve la función se denomina **valor de retorno**. La sentencia ```return``` toma un valor del interior de una función y lo devuelve a la línea que llamó a la función. Los valores de retorno le permiten mover gran parte del trabajo pesado de su programa a las funciones, lo que puede simplificar el cuerpo de su programa.\n",
    "\n",
    "Cuando se llama a una función que devuelve un valor, es necesario proporcionar una variable a la que se pueda asignar el valor devuelto."
   ]
  },
  {
   "cell_type": "code",
   "execution_count": 63,
   "metadata": {},
   "outputs": [],
   "source": [
    "def obtener_saludo():\n",
    "    saludo = \"Hola chicos de la ENES, soy una función\"\n",
    "    return saludo\n",
    "\n",
    "def obtener_saludo_para(nombre):\n",
    "    saludo = f\"Muchos gusto {nombre}, te saluda una función\"\n",
    "    return saludo\n",
    "\n",
    "def obtener_terna_pitagorica(numero_natural_1, numero_natural_2):\n",
    "    valor_a = math.pow(numero_natural_1, 2) - math.pow(numero_natural_2, 2)\n",
    "    valor_b = 2.0 * numero_natural_1 * numero_natural_2\n",
    "    valor_c = math.pow(numero_natural_1, 2) + math.pow(numero_natural_2, 2)\n",
    "    return valor_a, valor_b, valor_c"
   ]
  },
  {
   "cell_type": "code",
   "execution_count": 64,
   "metadata": {},
   "outputs": [
    {
     "name": "stdout",
     "output_type": "stream",
     "text": [
      "Hola chicos de la ENES, soy una función\n"
     ]
    }
   ],
   "source": [
    "saludo_obtenido = obtener_saludo()\n",
    "print(saludo_obtenido)"
   ]
  },
  {
   "cell_type": "code",
   "execution_count": 65,
   "metadata": {},
   "outputs": [
    {
     "name": "stdout",
     "output_type": "stream",
     "text": [
      "Muchos gusto Andrea, te saluda una función\n"
     ]
    }
   ],
   "source": [
    "saludo_especial = obtener_saludo_para(\"Andrea\")\n",
    "print(saludo_especial)"
   ]
  },
  {
   "cell_type": "code",
   "execution_count": 66,
   "metadata": {},
   "outputs": [
    {
     "name": "stdout",
     "output_type": "stream",
     "text": [
      "La terna pitagórica formada por los números naturales 5 y 3 es\n",
      "(16.0, 30.0, 34.0)\n"
     ]
    }
   ],
   "source": [
    "numero_natural_1 = 5\n",
    "numero_natural_2 = 3\n",
    "valor_1, valor_2, valor_3 = obtener_terna_pitagorica(numero_natural_1, numero_natural_2)\n",
    "\n",
    "print(f\"La terna pitagórica formada por los números naturales {numero_natural_1} y {numero_natural_2} es\")\n",
    "print(f\"({valor_1}, {valor_2}, {valor_3})\")"
   ]
  },
  {
   "cell_type": "markdown",
   "metadata": {},
   "source": [
    "## Estructura de datos\n",
    "\n",
    "Las estructuras de datos son la base fundamental para organizar y almacenar información en un programa. La elección de la estructura de datos adecuada es crucial para el rendimiento y la eficiencia de un programa. \n",
    "\n",
    "Existen dos tipos principales de estructuras de datos:\n",
    "\n",
    "1. Estructuras de datos lineales:\n",
    "\n",
    "    - Arreglos (Arrays): Un arreglo es una colección de elementos del mismo tipo almacenados en posiciones contiguas de memoria. Se accede a cada elemento mediante un índice numérico. Los arreglos son estructuras de datos estáticas, lo que significa que su tamaño se define en tiempo de compilación y no se puede modificar durante la ejecución del programa.\n",
    "\n",
    "    - Listas enlazadas: Una lista enlazada es una colección de elementos, llamados nodos, conectados entre sí por punteros. Cada nodo contiene un valor y un puntero al siguiente nodo en la lista. Las listas enlazadas son estructuras de datos dinámicas, lo que significa que su tamaño puede cambiar durante la ejecución del programa.\n",
    "\n",
    "    - Pilas (Stacks): Una pila es una estructura de datos LIFO (Last In, First Out). Esto significa que el último elemento agregado a la pila es el primero en ser eliminado. Las pilas se utilizan comúnmente para implementar algoritmos de retroceso y deshacer.\n",
    "\n",
    "    - Colas (Queues): Una cola es una estructura de datos FIFO (First In, First Out). Esto significa que el primer elemento agregado a la cola es el primero en ser eliminado. Las colas se utilizan comúnmente para implementar sistemas de búfer y tareas de procesamiento por orden de llegada.\n",
    "\n",
    "2. Estructuras de datos no lineales:\n",
    "\n",
    "    - Árboles: Un árbol es una estructura de datos jerárquica que consiste en un nodo raíz, conectado a cero o más nodos secundarios. Cada nodo puede tener cero o más hijos. Los árboles se utilizan comúnmente para representar datos jerárquicos, como sistemas de archivos y árboles de expresión.\n",
    "\n",
    "    - Grafos: Un grafo es una estructura de datos que consiste en un conjunto de nodos (vértices) y un conjunto de aristas que conectan pares de nodos. Los grafos se utilizan comúnmente para representar relaciones entre entidades, como redes sociales y mapas de carreteras.\n",
    "\n",
    "    - Tablas hash: Una tabla hash es una estructura de datos que asocia claves con valores. La clave se utiliza para calcular un índice en la tabla, donde se almacena el valor correspondiente. Las tablas hash son muy eficientes para buscar y almacenar datos."
   ]
  },
  {
   "cell_type": "markdown",
   "metadata": {},
   "source": [
    "## "
   ]
  },
  {
   "cell_type": "markdown",
   "metadata": {},
   "source": [
    "## Arreglos en python e introducción a NumPy.\n",
    "\n",
    "### NumPy: La base para el cómputo científico en Python\n",
    "\n",
    "NumPy, abreviatura de Numerical Python, es la biblioteca principal de Python para realizar cálculos numéricos. Permite la creación de arreglos y matrices multidimensionales de gran tamaño y proporciona una amplia colección de funciones matemáticas de alto nivel para operar con estos arreglos.\n",
    "\n",
    "Las operaciones en NumPy son más rápidas y eficientes que la funcionalidad equivalente en la biblioteca estándar que se incluye con Python."
   ]
  },
  {
   "cell_type": "markdown",
   "metadata": {},
   "source": [
    "Para comprender los arreglos, es necesario conocer su estructura. El número de dimensiones en un arreglo es la cantidad de índices necesarios para seleccionar un elemento del mismo. Se puede pensar en una dimensión como un eje del arreglo.\n",
    "\n",
    "El número de dimensiones en un arreglo, también llamado rango, se puede utilizar para describir el arreglo. En la figura se puede ver un ejemplo gráfico de arreglos unidimensionales, bidimensionales y tridimensionales.\n",
    "\n",
    "<div style=\"text-align: center;\">\n",
    "    <img src=\"../images/numpy_arrays.png\" alt=\"Banner curso\" style=\"width:40%\">\n",
    "</div>\n",
    "\n",
    "La forma de un arreglo es una tupla de enteros que representan el tamaño del arreglo a lo largo de cada dimensión, comenzando por la primera dimensión (eje 0). Se muestran ejemplos de formas debajo de cada arreglo en la figura anterior. El número de enteros en estas tuplas es igual al rango del arreglo.\n",
    "\n",
    "<!-- <div style=\"text-align: center;\">\n",
    "    <img src=\"../images/NumPy-array.webp\" alt=\"Banner curso\" style=\"width:40%\">\n",
    "</div> -->"
   ]
  },
  {
   "cell_type": "code",
   "execution_count": 67,
   "metadata": {},
   "outputs": [
    {
     "name": "stdout",
     "output_type": "stream",
     "text": [
      "[5 4 9]\n",
      "Shape: (3,)\n"
     ]
    }
   ],
   "source": [
    "import numpy as np  # Importamos la librería\n",
    "\n",
    "# Crear un arreglo unidimensional\n",
    "arreglo_unidimensional = np.array([5, 4, 9])\n",
    "print(arreglo_unidimensional)\n",
    "print(f\"Shape: {arreglo_unidimensional.shape}\")"
   ]
  },
  {
   "cell_type": "code",
   "execution_count": 68,
   "metadata": {},
   "outputs": [
    {
     "name": "stdout",
     "output_type": "stream",
     "text": [
      "[[4.1 2.  6.7]\n",
      " [0.3 9.4 2.2]]\n",
      "Shape: (2, 3)\n"
     ]
    }
   ],
   "source": [
    "# Crear un arreglo bidimensional\n",
    "arreglo_tridimensional = np.array([\n",
    "                                    [4.1, 2.0, 6.7],\n",
    "                                    [0.3, 9.4, 2.2]\n",
    "                                ])\n",
    "print(arreglo_tridimensional)\n",
    "print(f\"Shape: {arreglo_tridimensional.shape}\")"
   ]
  },
  {
   "cell_type": "code",
   "execution_count": 69,
   "metadata": {},
   "outputs": [
    {
     "name": "stdout",
     "output_type": "stream",
     "text": [
      "[[[1 0 1 1]\n",
      "  [0 1 1 1]\n",
      "  [1 1 0 1]]\n",
      "\n",
      " [[0 0 0 0]\n",
      "  [0 0 0 0]\n",
      "  [1 1 0 1]]]\n",
      "Shape: (2, 3, 4)\n"
     ]
    }
   ],
   "source": [
    "# Crear un arreglo tridimensional\n",
    "arreglo_tridimensional = np.array([[[1, 0, 1, 1],\n",
    "                                   [0, 1, 1, 1],\n",
    "                                   [1, 1, 0, 1]],\n",
    "\n",
    "                                  [[0, 0, 0, 0],\n",
    "                                   [0, 0, 0, 0],\n",
    "                                   [1, 1, 0, 1]]])\n",
    "print(arreglo_tridimensional)\n",
    "print(f\"Shape: {arreglo_tridimensional.shape}\")"
   ]
  },
  {
   "cell_type": "markdown",
   "metadata": {},
   "source": [
    "### Atributos de los arreglos"
   ]
  },
  {
   "cell_type": "markdown",
   "metadata": {},
   "source": [
    "#### Arreglos unidimensionales"
   ]
  },
  {
   "cell_type": "code",
   "execution_count": 70,
   "metadata": {},
   "outputs": [
    {
     "name": "stdout",
     "output_type": "stream",
     "text": [
      "El número de dimensiones del vector es: 1\n",
      "El número de dimensiones del vector es: (5,)\n",
      "El número de elementos del vector es: 5\n",
      "El tipo de dato del vector es: int64\n",
      "El vector es:\n",
      "[ 2  4  6  8 10]\n"
     ]
    }
   ],
   "source": [
    "vector = np.array([2,4,6,8,10])\n",
    "\n",
    "# ndim: Devuelve el número de dimensiones del array.\n",
    "numero_de_dimensiones_del_vector = vector.ndim\n",
    "print(f'El número de dimensiones del vector es: {numero_de_dimensiones_del_vector}')\n",
    "\n",
    "# shape: Devuelve una tupla con las dimensiones del array.\n",
    "dimensiones_del_vector = vector.shape\n",
    "print(f'El número de dimensiones del vector es: {dimensiones_del_vector}')\n",
    "\n",
    "# size:  Devuelve el número de elementos del array.\n",
    "numero_de_elementos_del_vector = vector.size\n",
    "print(f'El número de elementos del vector es: {numero_de_elementos_del_vector}')\n",
    "\n",
    "# dtype: Devuelve el tipo de datos de los elementos del array.\n",
    "tipo_de_dato_del_vector = vector.dtype\n",
    "print(f'El tipo de dato del vector es: {tipo_de_dato_del_vector}')\n",
    "\n",
    "print(f'El vector es:')\n",
    "print(vector)"
   ]
  },
  {
   "cell_type": "markdown",
   "metadata": {},
   "source": [
    "#### Arreglos bidimensionales"
   ]
  },
  {
   "cell_type": "code",
   "execution_count": 71,
   "metadata": {},
   "outputs": [
    {
     "name": "stdout",
     "output_type": "stream",
     "text": [
      "El número de dimensiones de la matriz es: 2\n",
      "El número de dimensiones de la matriz es: (3, 5)\n",
      "El número de elementos de la matriz es: 15\n",
      "El tipo de dato del matriz es: float64\n",
      "La matriz es:\n",
      "[[  2.    4.    6.    8.   10. ]\n",
      " [  4.   16.   36.   64.  100. ]\n",
      " [  2.3   4.3   6.3   8.3  10.3]]\n"
     ]
    }
   ],
   "source": [
    "matriz = np.array([\n",
    "        [2,4,6,8,10],\n",
    "        [4,16,36,64,100],\n",
    "        [2.3,4.3,6.3,8.3,10.3]\n",
    "    ])\n",
    "\n",
    "# ndim: Devuelve el número de dimensiones del array.\n",
    "numero_de_dimensiones_de_la_matriz = matriz.ndim\n",
    "print(f'El número de dimensiones de la matriz es: {numero_de_dimensiones_de_la_matriz}')\n",
    "\n",
    "# shape: Devuelve una tupla con las dimensiones del array.\n",
    "dimensiones_de_la_matriz = matriz.shape\n",
    "print(f'El número de dimensiones de la matriz es: {dimensiones_de_la_matriz}')\n",
    "\n",
    "# size:  Devuelve el número de elementos del array.\n",
    "numero_de_elementos_de_la_matriz = matriz.size\n",
    "print(f'El número de elementos de la matriz es: {numero_de_elementos_de_la_matriz}')\n",
    "\n",
    "# dtype: Devuelve el tipo de datos de los elementos del array.\n",
    "tipo_de_dato_de_la_matriz = matriz.dtype\n",
    "print(f'El tipo de dato del matriz es: {tipo_de_dato_de_la_matriz}')\n",
    "\n",
    "print(f'La matriz es:')\n",
    "print(matriz)"
   ]
  },
  {
   "cell_type": "markdown",
   "metadata": {},
   "source": [
    "#### Acceder a los valores de un arreglo"
   ]
  },
  {
   "cell_type": "code",
   "execution_count": 72,
   "metadata": {},
   "outputs": [
    {
     "name": "stdout",
     "output_type": "stream",
     "text": [
      "El vector es:\n",
      "[ 2  4  6  8 10]\n",
      "vector[3] = 8\n"
     ]
    }
   ],
   "source": [
    "print(f'El vector es:')\n",
    "print(vector)\n",
    "\n",
    "# Para un arreglo unidimensional, se accede de la siguiente manera:\n",
    "indice = 3\n",
    "valor = vector[indice]\n",
    "print(f'vector[{indice}] = {valor}')"
   ]
  },
  {
   "cell_type": "code",
   "execution_count": 73,
   "metadata": {},
   "outputs": [
    {
     "name": "stdout",
     "output_type": "stream",
     "text": [
      "La matriz es:\n",
      "[[  2.    4.    6.    8.   10. ]\n",
      " [  4.   16.   36.   64.  100. ]\n",
      " [  2.3   4.3   6.3   8.3  10.3]]\n",
      "Primera forma: matriz[2, 3] = 8.3\n",
      "Segunda forma: matriz[2][3] = 8.3\n"
     ]
    }
   ],
   "source": [
    "print(f'La matriz es:')\n",
    "print(matriz)\n",
    "\n",
    "# Primera forma\n",
    "indice_fila = 2\n",
    "indice_columna = 3\n",
    "valor = matriz[indice_fila, indice_columna]\n",
    "print(f'Primera forma: matriz[{indice_fila}, {indice_columna}] = {valor}')\n",
    "\n",
    "# Segunda forma\n",
    "valor = matriz[indice_fila][indice_columna]\n",
    "print(f'Segunda forma: matriz[{indice_fila}][{indice_columna}] = {valor}')"
   ]
  },
  {
   "cell_type": "markdown",
   "metadata": {},
   "source": [
    "### Obtener subarreglos"
   ]
  },
  {
   "cell_type": "code",
   "execution_count": 74,
   "metadata": {},
   "outputs": [
    {
     "name": "stdout",
     "output_type": "stream",
     "text": [
      "[3.02 3.96 2.91 5.14 2.75 1.26 4.82 7.05 1.12 2.97]\n"
     ]
    }
   ],
   "source": [
    "# Generar temperaturas de 10 elementos\n",
    "temperaturas = np.random.uniform(1, 10, 10)\n",
    "\n",
    "# Formatear a dos decimales\n",
    "temperaturas = np.around(temperaturas, decimals=2)\n",
    "\n",
    "print(temperaturas)"
   ]
  },
  {
   "cell_type": "code",
   "execution_count": 75,
   "metadata": {},
   "outputs": [
    {
     "name": "stdout",
     "output_type": "stream",
     "text": [
      "sub_vector = [5, 6, 7, 8, 9, 10]\n"
     ]
    }
   ],
   "source": [
    "# En el caso de arreglos unidimensionales\n",
    "vector = [1,2,3,4,5,6,7,8,9,10]\n",
    "\n",
    "sub_vector = vector[4:10]\n",
    "# sub_vector = vector[:]\n",
    "print(f'sub_vector = {sub_vector}')"
   ]
  },
  {
   "cell_type": "code",
   "execution_count": 76,
   "metadata": {},
   "outputs": [
    {
     "name": "stdout",
     "output_type": "stream",
     "text": [
      "[[ 1  2  3  4  5]\n",
      " [ 6  7  8  9 10]\n",
      " [11 12 13 14 15]\n",
      " [16 17 18 19 20]]\n",
      "sub_matriz = [16 17 18 19 20]\n"
     ]
    }
   ],
   "source": [
    "# En el caso de arreglos bidimensionales\n",
    "matriz = np.array([\n",
    "    [1,2,3,4,5],\n",
    "    [6,7,8,9,10],\n",
    "    [11,12,13,14,15],\n",
    "    [16,17,18,19,20]\n",
    "])\n",
    "\n",
    "print(matriz)\n",
    "sub_matriz = matriz[3, :]\n",
    "# sub_matriz = matriz[2, 0:3]\n",
    "# sub_matriz = matriz[:, 3]\n",
    "# sub_matriz = matriz[1:4, 3]\n",
    "# sub_matriz = matriz[1:3, :]\n",
    "# sub_matriz = matriz[:, 1:3]\n",
    "# sub_matriz = matriz[1:3, 2:4]\n",
    "# sub_matriz = matriz[:, :]\n",
    "print(f'sub_matriz = {sub_matriz}')"
   ]
  },
  {
   "cell_type": "markdown",
   "metadata": {},
   "source": [
    "### Funciones para generar arreglos.\n",
    "\n",
    "La función `np.arange` genera un array con valores dentro de un intervalo especificado, con un paso constante entre cada valor.\n",
    "```python\n",
    "    np.arrange(start, end, step)\n",
    "```"
   ]
  },
  {
   "cell_type": "code",
   "execution_count": 77,
   "metadata": {},
   "outputs": [
    {
     "name": "stdout",
     "output_type": "stream",
     "text": [
      "[0 1 2 3 4 5 6 7 8 9]\n",
      "[0 1 2 3 4 5 6 7 8 9]\n",
      "[ 0  1  2  3  4  5  6  7  8  9 10]\n",
      "[0 3 6 9]\n"
     ]
    }
   ],
   "source": [
    "start_a = 0\n",
    "end_a = 10\n",
    "step_a = 3\n",
    "\n",
    "arrange_1 = np.arange(end_a) # step por default es uno y start por default es cero\n",
    "print(arrange_1)\n",
    "\n",
    "arrange_2 = np.arange(start_a, end_a)\n",
    "print(arrange_2)\n",
    "\n",
    "arrange_3 = np.arange(start_a, end_a + 1) # Si queremos se incluya el valor end_a, entonces end_a + 1\n",
    "print(arrange_3)\n",
    "\n",
    "arrange_4 = np.arange(start_a, end_a + 1, step_a) \n",
    "print(arrange_4)"
   ]
  },
  {
   "cell_type": "markdown",
   "metadata": {},
   "source": [
    "La función `np.linspace` genera un array con un número especificado de valores equidistantes dentro de un intervalo.\n",
    "```python\n",
    "    np.linspace(start, end, num)\n",
    "```"
   ]
  },
  {
   "cell_type": "code",
   "execution_count": 78,
   "metadata": {},
   "outputs": [
    {
     "name": "stdout",
     "output_type": "stream",
     "text": [
      "[0.         0.04081633 0.08163265 0.12244898 0.16326531 0.20408163\n",
      " 0.24489796 0.28571429 0.32653061 0.36734694 0.40816327 0.44897959\n",
      " 0.48979592 0.53061224 0.57142857 0.6122449  0.65306122 0.69387755\n",
      " 0.73469388 0.7755102  0.81632653 0.85714286 0.89795918 0.93877551\n",
      " 0.97959184 1.02040816 1.06122449 1.10204082 1.14285714 1.18367347\n",
      " 1.2244898  1.26530612 1.30612245 1.34693878 1.3877551  1.42857143\n",
      " 1.46938776 1.51020408 1.55102041 1.59183673 1.63265306 1.67346939\n",
      " 1.71428571 1.75510204 1.79591837 1.83673469 1.87755102 1.91836735\n",
      " 1.95918367 2.        ]\n",
      "\n",
      "[0.  0.5 1.  1.5 2. ]\n",
      "\n",
      "[0.  0.4 0.8 1.2 1.6]\n"
     ]
    }
   ],
   "source": [
    "start_l = 0\n",
    "end_l = 2\n",
    "num_l = 5\n",
    "\n",
    "linspace_1 = np.linspace(start_l, end_l) # no hay valor start por default y num por default es 50\n",
    "print(linspace_1)\n",
    "print()\n",
    "\n",
    "linspace_2 = np.linspace(start_l, end_l, num_l) \n",
    "print(linspace_2)\n",
    "print()\n",
    "\n",
    "linspace_3 = np.linspace(0,2,5, endpoint=False) # para no incluir valor end\n",
    "print(linspace_3)"
   ]
  },
  {
   "cell_type": "markdown",
   "metadata": {},
   "source": [
    "La función `np.zeros` crea un array de ceros con la forma especificada.\n",
    "```python\n",
    "    np.zeros(shape)\n",
    "```"
   ]
  },
  {
   "cell_type": "code",
   "execution_count": 79,
   "metadata": {},
   "outputs": [
    {
     "name": "stdout",
     "output_type": "stream",
     "text": [
      "[0. 0. 0. 0.]\n",
      "\n",
      "[[0. 0. 0. 0.]\n",
      " [0. 0. 0. 0.]\n",
      " [0. 0. 0. 0.]]\n"
     ]
    }
   ],
   "source": [
    "shape_unidimensional = (4,)\n",
    "shape_bidimensional = (3,4)\n",
    "\n",
    "vector = np.zeros(shape_unidimensional)\n",
    "matriz = np.zeros(shape_bidimensional)\n",
    "\n",
    "print(vector)\n",
    "print()\n",
    "print(matriz)"
   ]
  },
  {
   "cell_type": "markdown",
   "metadata": {},
   "source": [
    "La función `np.ones` crea un array de unos con la forma especificada.\n",
    "```python\n",
    "    np.ones(shape)\n",
    "```"
   ]
  },
  {
   "cell_type": "code",
   "execution_count": 80,
   "metadata": {},
   "outputs": [
    {
     "name": "stdout",
     "output_type": "stream",
     "text": [
      "[1. 1. 1. 1.]\n",
      "\n",
      "[[1. 1. 1. 1.]\n",
      " [1. 1. 1. 1.]\n",
      " [1. 1. 1. 1.]]\n"
     ]
    }
   ],
   "source": [
    "shape_unidimensional = (4,)\n",
    "shape_bidimensional = (3,4)\n",
    "\n",
    "vector = np.ones(shape_unidimensional)\n",
    "matriz = np.ones(shape_bidimensional)\n",
    "\n",
    "print(vector)\n",
    "print()\n",
    "print(matriz)"
   ]
  },
  {
   "cell_type": "markdown",
   "metadata": {},
   "source": [
    "La función `np.full` crea un array lleno con un valor específico.\n",
    "```python\n",
    "    np.full(shape, fill_value)\n",
    "```"
   ]
  },
  {
   "cell_type": "code",
   "execution_count": 81,
   "metadata": {},
   "outputs": [
    {
     "name": "stdout",
     "output_type": "stream",
     "text": [
      "[4 4 4 4]\n",
      "\n",
      "[[6.3 6.3 6.3 6.3]\n",
      " [6.3 6.3 6.3 6.3]\n",
      " [6.3 6.3 6.3 6.3]]\n"
     ]
    }
   ],
   "source": [
    "shape_unidimensional = (4,)\n",
    "shape_bidimensional = (3,4)\n",
    "\n",
    "vector = np.full(shape_unidimensional, 4)\n",
    "matriz = np.full(shape_bidimensional, 6.3)\n",
    "\n",
    "print(vector)\n",
    "print()\n",
    "print(matriz)"
   ]
  },
  {
   "cell_type": "markdown",
   "metadata": {},
   "source": [
    "La función `np.eye` permite crear una matriz con unos en la diagonal principal y ceros en otros lugares.\n",
    "```python\n",
    "    np.eye(N, M, k)\n",
    "```\n",
    "\n",
    "donde \n",
    "- N: Número de filas de la matriz.\n",
    "- M: Número de columnas de la matriz. Si no se especifica, se toma como N.\n",
    "- k: Índice de la diagonal. k=0 (por defecto) es la diagonal principal, k>0 es una diagonal por encima de la principal, y k<0 es una diagonal por debajo de la principal."
   ]
  },
  {
   "cell_type": "code",
   "execution_count": 82,
   "metadata": {},
   "outputs": [
    {
     "name": "stdout",
     "output_type": "stream",
     "text": [
      "[[1. 0. 0. 0.]\n",
      " [0. 1. 0. 0.]\n",
      " [0. 0. 1. 0.]\n",
      " [0. 0. 0. 1.]]\n",
      "\n",
      "[[1. 0. 0. 0. 0. 0.]\n",
      " [0. 1. 0. 0. 0. 0.]\n",
      " [0. 0. 1. 0. 0. 0.]\n",
      " [0. 0. 0. 1. 0. 0.]]\n",
      "\n",
      "[[0. 0. 0. 0. 0. 0.]\n",
      " [1. 0. 0. 0. 0. 0.]\n",
      " [0. 1. 0. 0. 0. 0.]\n",
      " [0. 0. 1. 0. 0. 0.]]\n",
      "\n",
      "[[0. 0. 0. 0.]\n",
      " [1. 0. 0. 0.]\n",
      " [0. 1. 0. 0.]\n",
      " [0. 0. 1. 0.]]\n"
     ]
    }
   ],
   "source": [
    "N = 4\n",
    "M = 6\n",
    "k = -1\n",
    "\n",
    "matriz_1 = np.eye(N) # M es opcional y k es igual a uno por default\n",
    "matriz_2 = np.eye(N,M)\n",
    "matriz_3 = np.eye(N,M,k)\n",
    "matriz_4 = np.eye(N,N,k)\n",
    "\n",
    "print(matriz_1)\n",
    "print()\n",
    "print(matriz_2)\n",
    "print()\n",
    "print(matriz_3)\n",
    "print()\n",
    "print(matriz_4)"
   ]
  },
  {
   "cell_type": "markdown",
   "metadata": {},
   "source": [
    "La función `np.identity` es una forma más simple de crear una matriz identidad (una matriz cuadrada con unos en la diagonal principal y ceros en otros lugares).\n",
    "```python\n",
    "    np.identity(n)\n",
    "```\n",
    "donde `n` es el número de filas (y columnas) de la matriz cuadrada."
   ]
  },
  {
   "cell_type": "code",
   "execution_count": 83,
   "metadata": {},
   "outputs": [
    {
     "name": "stdout",
     "output_type": "stream",
     "text": [
      "[[1. 0. 0. 0.]\n",
      " [0. 1. 0. 0.]\n",
      " [0. 0. 1. 0.]\n",
      " [0. 0. 0. 1.]]\n"
     ]
    }
   ],
   "source": [
    "N = 4\n",
    "\n",
    "matriz = np.eye(N)\n",
    "\n",
    "print(matriz)"
   ]
  },
  {
   "cell_type": "markdown",
   "metadata": {},
   "source": [
    "### Operaciones matemáticas con arrays"
   ]
  },
  {
   "cell_type": "code",
   "execution_count": 84,
   "metadata": {},
   "outputs": [
    {
     "name": "stdout",
     "output_type": "stream",
     "text": [
      "vector_a + vector_b = [ 7  9 11 13 15]\n",
      "vector_a - vector_b = [-5 -5 -5 -5 -5]\n",
      "vector_a * vector_b = [ 6 14 24 36 50]\n",
      "vector_b / vector_a = [6.         3.5        2.66666667 2.25       2.        ]\n",
      "vector_b % vector_a = [0 1 2 1 0]\n",
      "vector_a ** vector_b = [      1     128    6561  262144 9765625]\n"
     ]
    }
   ],
   "source": [
    "# Operación elemento a elemento:\n",
    "vector_a = np.array([1,2,3,4,5])\n",
    "vector_b = np.array([6,7,8,9,10])\n",
    "\n",
    "print(f'vector_a + vector_b = {vector_a + vector_b}')\n",
    "print(f'vector_a - vector_b = {vector_a - vector_b}')\n",
    "print(f'vector_a * vector_b = {vector_a * vector_b}')\n",
    "print(f'vector_b / vector_a = {vector_b / vector_a}')\n",
    "print(f'vector_b % vector_a = {vector_b % vector_a}')\n",
    "print(f'vector_a ** vector_b = {vector_a ** vector_b}')"
   ]
  },
  {
   "cell_type": "code",
   "execution_count": 85,
   "metadata": {},
   "outputs": [
    {
     "name": "stdout",
     "output_type": "stream",
     "text": [
      "vector_a + 5 = [ 6  7  8  9 10]\n",
      "vector_a - 5 = [-4 -3 -2 -1  0]\n",
      "vector_a * 5 = [ 5 10 15 20 25]\n",
      "vector_a / 5 = [0.2 0.4 0.6 0.8 1. ]\n",
      "vector_a % 5 = [1 2 3 4 0]\n",
      "vector_a ** 2 = [ 1  4  9 16 25]\n"
     ]
    }
   ],
   "source": [
    "# Operación array-escalar:\n",
    "\n",
    "print(f'vector_a + 5 = {vector_a + 5}')\n",
    "print(f'vector_a - 5 = {vector_a - 5}')\n",
    "print(f'vector_a * 5 = {vector_a * 5}')\n",
    "print(f'vector_a / 5 = {vector_a / 5}')\n",
    "print(f'vector_a % 5 = {vector_a % 5}')\n",
    "print(f'vector_a ** 2 = {vector_a ** 2}')"
   ]
  },
  {
   "cell_type": "code",
   "execution_count": 86,
   "metadata": {},
   "outputs": [
    {
     "name": "stdout",
     "output_type": "stream",
     "text": [
      "[[1 2 3]\n",
      " [1 2 3]\n",
      " [1 2 3]]\n",
      "[[5 6 7]\n",
      " [5 6 7]\n",
      " [5 6 7]]\n",
      "matriz_a + matriz_b = \n",
      "[[ 6  8 10]\n",
      " [ 6  8 10]\n",
      " [ 6  8 10]]\n",
      "matriz_a - matriz_b = \n",
      "[[-4 -4 -4]\n",
      " [-4 -4 -4]\n",
      " [-4 -4 -4]]\n",
      "matriz_a * matriz_b = \n",
      "[[ 5 12 21]\n",
      " [ 5 12 21]\n",
      " [ 5 12 21]]\n",
      "matriz_b / matriz_a = \n",
      "[[5.         3.         2.33333333]\n",
      " [5.         3.         2.33333333]\n",
      " [5.         3.         2.33333333]]\n",
      "matriz_b % matriz_a = \n",
      "[[0 0 1]\n",
      " [0 0 1]\n",
      " [0 0 1]]\n",
      "matriz_a ** matriz_b = \n",
      "[[   1   64 2187]\n",
      " [   1   64 2187]\n",
      " [   1   64 2187]]\n"
     ]
    }
   ],
   "source": [
    "matriz_a = np.array([\n",
    "    [1,2,3],\n",
    "    [1,2,3],\n",
    "    [1,2,3],\n",
    "])\n",
    "\n",
    "matriz_b = np.array([\n",
    "    [5,6,7],\n",
    "    [5,6,7],\n",
    "    [5,6,7],\n",
    "])\n",
    "\n",
    "print(matriz_a)\n",
    "print(matriz_b)\n",
    "print(f'matriz_a + matriz_b = \\n{matriz_a + matriz_b}')\n",
    "print(f'matriz_a - matriz_b = \\n{matriz_a - matriz_b}')\n",
    "print(f'matriz_a * matriz_b = \\n{matriz_a * matriz_b}')\n",
    "print(f'matriz_b / matriz_a = \\n{matriz_b / matriz_a}')\n",
    "print(f'matriz_b % matriz_a = \\n{matriz_b % matriz_a}')\n",
    "print(f'matriz_a ** matriz_b = \\n{matriz_a ** matriz_b}')"
   ]
  },
  {
   "cell_type": "code",
   "execution_count": 87,
   "metadata": {},
   "outputs": [
    {
     "name": "stdout",
     "output_type": "stream",
     "text": [
      "[[1 2 3]\n",
      " [1 2 3]\n",
      " [1 2 3]]\n",
      "matriz_a + 3 = \n",
      "[[4 5 6]\n",
      " [4 5 6]\n",
      " [4 5 6]]\n",
      "matriz_a - 3 = \n",
      "[[-2 -1  0]\n",
      " [-2 -1  0]\n",
      " [-2 -1  0]]\n",
      "matriz_a * 3 = \n",
      "[[3 6 9]\n",
      " [3 6 9]\n",
      " [3 6 9]]\n",
      "matriz_a / 3 = \n",
      "[[0.33333333 0.66666667 1.        ]\n",
      " [0.33333333 0.66666667 1.        ]\n",
      " [0.33333333 0.66666667 1.        ]]\n",
      "matriz_a % 3 = \n",
      "[[1 2 0]\n",
      " [1 2 0]\n",
      " [1 2 0]]\n",
      "matriz_a ** 2 = \n",
      "[[1 4 9]\n",
      " [1 4 9]\n",
      " [1 4 9]]\n"
     ]
    }
   ],
   "source": [
    "# Operación escalar-matriz\n",
    "print(matriz_a)\n",
    "print(f'matriz_a + 3 = \\n{matriz_a + 3}')\n",
    "print(f'matriz_a - 3 = \\n{matriz_a - 3}')\n",
    "print(f'matriz_a * 3 = \\n{matriz_a * 3}')\n",
    "print(f'matriz_a / 3 = \\n{matriz_a / 3}')\n",
    "print(f'matriz_a % 3 = \\n{matriz_a % 3}')\n",
    "print(f'matriz_a ** 2 = \\n{matriz_a ** 2}')"
   ]
  },
  {
   "cell_type": "markdown",
   "metadata": {},
   "source": [
    "### Función norm, dot, transpuesta (T), det, trace, inv y solve"
   ]
  },
  {
   "cell_type": "code",
   "execution_count": 88,
   "metadata": {},
   "outputs": [
    {
     "name": "stdout",
     "output_type": "stream",
     "text": [
      "La norma del vector norm(5i + 6j) = 7.810249675906654\n",
      "La norma del vector norm(5i + 6j) = 7.81\n"
     ]
    }
   ],
   "source": [
    "vector = np.array([5, 6])\n",
    "norma_vector = np.linalg.norm(vector)\n",
    "print(f'La norma del vector norm(5i + 6j) = {norma_vector}')\n",
    "print(f'La norma del vector norm(5i + 6j) = {np.around(norma_vector, decimals=2)}')"
   ]
  },
  {
   "cell_type": "code",
   "execution_count": 89,
   "metadata": {},
   "outputs": [
    {
     "name": "stdout",
     "output_type": "stream",
     "text": [
      "vector1 = [1 1 1 1 1]\n",
      "vector2 = [2 2 2 2 2]\n",
      "<vector1, vector2> = 10\n"
     ]
    }
   ],
   "source": [
    "vector1 = np.ones(5,dtype=int)\n",
    "vector2 = np.ones(5,int)*2\n",
    "print(f'vector1 = {vector1}')\n",
    "print(f'vector2 = {vector2}')\n",
    "\n",
    "producto_punto = vector1.dot(vector2)\n",
    "print(f'<vector1, vector2> = {producto_punto}')"
   ]
  },
  {
   "cell_type": "code",
   "execution_count": 90,
   "metadata": {},
   "outputs": [
    {
     "name": "stdout",
     "output_type": "stream",
     "text": [
      "matriz1 = \n",
      "[[1 1 1 1]\n",
      " [1 1 1 1]\n",
      " [1 1 1 1]\n",
      " [1 1 1 1]]\n",
      "matriz2 = \n",
      "[[2 2 2 2]\n",
      " [2 2 2 2]\n",
      " [2 2 2 2]\n",
      " [2 2 2 2]]\n",
      "matriz1 * matriz2 = \n",
      "[[8 8 8 8]\n",
      " [8 8 8 8]\n",
      " [8 8 8 8]\n",
      " [8 8 8 8]]\n"
     ]
    }
   ],
   "source": [
    "matriz1 = np.ones((4,4),int)\n",
    "matriz2 = np.ones((4,4),int)*2\n",
    "\n",
    "print(f'matriz1 = \\n{matriz1}')\n",
    "print(f'matriz2 = \\n{matriz2}')\n",
    "\n",
    "producto_matricial = np.dot(matriz1,matriz2)\n",
    "print(f'matriz1 * matriz2 = \\n{producto_matricial}')"
   ]
  },
  {
   "cell_type": "code",
   "execution_count": 91,
   "metadata": {},
   "outputs": [
    {
     "name": "stdout",
     "output_type": "stream",
     "text": [
      "matriz = \n",
      "[[ 1  2  3  4]\n",
      " [ 5  6  7  8]\n",
      " [ 9 10 11 12]\n",
      " [13 14 15 16]]\n",
      "matriz^T = \n",
      "[[ 1  5  9 13]\n",
      " [ 2  6 10 14]\n",
      " [ 3  7 11 15]\n",
      " [ 4  8 12 16]]\n"
     ]
    }
   ],
   "source": [
    "matriz = np.array([\n",
    "    [1, 2, 3, 4],\n",
    "    [5, 6, 7, 8],\n",
    "    [9, 10, 11, 12],\n",
    "    [13, 14, 15, 16]\n",
    "])\n",
    "\n",
    "print(f'matriz = \\n{matriz}')\n",
    "\n",
    "matriz_transpuesta = matriz.T\n",
    "print(f'matriz^T = \\n{matriz_transpuesta}')\n",
    "\n"
   ]
  },
  {
   "cell_type": "code",
   "execution_count": 92,
   "metadata": {},
   "outputs": [
    {
     "name": "stdout",
     "output_type": "stream",
     "text": [
      "matriz = \n",
      "[[ 1  2  3  4]\n",
      " [ 5  6  7  8]\n",
      " [ 9 10 11 12]\n",
      " [13 14 15 16]]\n",
      "traza de matriz = 34\n"
     ]
    }
   ],
   "source": [
    "print(f'matriz = \\n{matriz}')\n",
    "\n",
    "traza_de_una_matriz = matriz.trace()\n",
    "\n",
    "print(f'traza de matriz = {traza_de_una_matriz}')"
   ]
  },
  {
   "cell_type": "code",
   "execution_count": 93,
   "metadata": {},
   "outputs": [
    {
     "name": "stdout",
     "output_type": "stream",
     "text": [
      "matriz = \n",
      "[[ 1  2  3  4]\n",
      " [ 5  6  7  8]\n",
      " [ 9 10 11 12]\n",
      " [13 14 15 16]]\n",
      "determinante de matriz = -1.820448242817726e-31\n"
     ]
    }
   ],
   "source": [
    "print(f'matriz = \\n{matriz}')\n",
    "\n",
    "determinante = np.linalg.det(matriz)\n",
    "\n",
    "print(f'determinante de matriz = {determinante}')"
   ]
  },
  {
   "cell_type": "code",
   "execution_count": 94,
   "metadata": {},
   "outputs": [
    {
     "name": "stdout",
     "output_type": "stream",
     "text": [
      "matriz = \n",
      "[[ 1  2  3  4]\n",
      " [ 5  6  7  8]\n",
      " [ 9 10 11 12]\n",
      " [13 14 15 16]]\n",
      "inversa de la matriz = \n",
      "[[ 1.50119988e+15 -3.75299969e+14 -3.75299969e+15  2.62709978e+15]\n",
      " [-1.95155984e+16  1.95155984e+16  1.95155984e+16 -1.95155984e+16]\n",
      " [ 3.45275971e+16 -3.79052969e+16 -2.77721977e+16  3.11498974e+16]\n",
      " [-1.65131986e+16  1.87649984e+16  1.20095990e+16 -1.42613988e+16]]\n"
     ]
    }
   ],
   "source": [
    "print(f'matriz = \\n{matriz}')\n",
    "\n",
    "inversa = np.linalg.inv(matriz)\n",
    "\n",
    "print(f'inversa de la matriz = \\n{inversa}')"
   ]
  },
  {
   "cell_type": "code",
   "execution_count": 95,
   "metadata": {},
   "outputs": [
    {
     "name": "stdout",
     "output_type": "stream",
     "text": [
      "La solucion del sistema es: [ -0.41666667 -17.33333333  19.91666667  -1.91666667]\n"
     ]
    }
   ],
   "source": [
    "vector_b = np.array([17, 18, 19, 20])\n",
    "\n",
    "solucion = np.linalg.solve(matriz, vector_b)\n",
    "\n",
    "print(f'La solucion del sistema es: {solucion}')\n"
   ]
  },
  {
   "cell_type": "markdown",
   "metadata": {},
   "source": [
    "# Gráficas"
   ]
  },
  {
   "cell_type": "code",
   "execution_count": 96,
   "metadata": {},
   "outputs": [],
   "source": [
    "import matplotlib.pyplot as plt\n",
    "import numpy as np\n",
    "import pandas as pd"
   ]
  },
  {
   "cell_type": "markdown",
   "metadata": {},
   "source": [
    "$f(x) = \\sqrt{2x-3}$\n",
    "$2x-3 > 0$"
   ]
  },
  {
   "cell_type": "code",
   "execution_count": 97,
   "metadata": {},
   "outputs": [],
   "source": [
    "def fun1(x):\n",
    "    return np.sqrt(2*x-3)"
   ]
  },
  {
   "cell_type": "code",
   "execution_count": 98,
   "metadata": {},
   "outputs": [],
   "source": [
    "fun2 = lambda x: np.sqrt(2*x-3)"
   ]
  },
  {
   "cell_type": "code",
   "execution_count": 99,
   "metadata": {},
   "outputs": [
    {
     "data": {
      "text/plain": [
       "2.23606797749979"
      ]
     },
     "execution_count": 99,
     "metadata": {},
     "output_type": "execute_result"
    }
   ],
   "source": [
    "fun1(4)"
   ]
  },
  {
   "cell_type": "code",
   "execution_count": 100,
   "metadata": {},
   "outputs": [
    {
     "data": {
      "text/plain": [
       "2.23606797749979"
      ]
     },
     "execution_count": 100,
     "metadata": {},
     "output_type": "execute_result"
    }
   ],
   "source": [
    "fun2(4)"
   ]
  },
  {
   "cell_type": "code",
   "execution_count": 101,
   "metadata": {},
   "outputs": [],
   "source": [
    "dom = np.linspace(3/2,50,100)\n",
    "img = fun1(dom)"
   ]
  },
  {
   "cell_type": "code",
   "execution_count": 8,
   "metadata": {},
   "outputs": [
    {
     "data": {
      "text/plain": [
       "array([ 1.5       ,  1.98989899,  2.47979798,  2.96969697,  3.45959596,\n",
       "        3.94949495,  4.43939394,  4.92929293,  5.41919192,  5.90909091,\n",
       "        6.3989899 ,  6.88888889,  7.37878788,  7.86868687,  8.35858586,\n",
       "        8.84848485,  9.33838384,  9.82828283, 10.31818182, 10.80808081,\n",
       "       11.2979798 , 11.78787879, 12.27777778, 12.76767677, 13.25757576,\n",
       "       13.74747475, 14.23737374, 14.72727273, 15.21717172, 15.70707071,\n",
       "       16.1969697 , 16.68686869, 17.17676768, 17.66666667, 18.15656566,\n",
       "       18.64646465, 19.13636364, 19.62626263, 20.11616162, 20.60606061,\n",
       "       21.0959596 , 21.58585859, 22.07575758, 22.56565657, 23.05555556,\n",
       "       23.54545455, 24.03535354, 24.52525253, 25.01515152, 25.50505051,\n",
       "       25.99494949, 26.48484848, 26.97474747, 27.46464646, 27.95454545,\n",
       "       28.44444444, 28.93434343, 29.42424242, 29.91414141, 30.4040404 ,\n",
       "       30.89393939, 31.38383838, 31.87373737, 32.36363636, 32.85353535,\n",
       "       33.34343434, 33.83333333, 34.32323232, 34.81313131, 35.3030303 ,\n",
       "       35.79292929, 36.28282828, 36.77272727, 37.26262626, 37.75252525,\n",
       "       38.24242424, 38.73232323, 39.22222222, 39.71212121, 40.2020202 ,\n",
       "       40.69191919, 41.18181818, 41.67171717, 42.16161616, 42.65151515,\n",
       "       43.14141414, 43.63131313, 44.12121212, 44.61111111, 45.1010101 ,\n",
       "       45.59090909, 46.08080808, 46.57070707, 47.06060606, 47.55050505,\n",
       "       48.04040404, 48.53030303, 49.02020202, 49.51010101, 50.        ])"
      ]
     },
     "execution_count": 8,
     "metadata": {},
     "output_type": "execute_result"
    }
   ],
   "source": [
    "dom"
   ]
  },
  {
   "cell_type": "code",
   "execution_count": 9,
   "metadata": {},
   "outputs": [
    {
     "data": {
      "text/plain": [
       "array([0.        , 0.98984745, 1.39985569, 1.71446608, 1.97969491,\n",
       "       2.21336619, 2.42462118, 2.6188902 , 2.79971138, 2.96954236,\n",
       "       3.13017249, 3.2829526 , 3.42893216, 3.56894575, 3.70367003,\n",
       "       3.8336627 , 3.95938981, 4.0812456 , 4.19956708, 4.31464502,\n",
       "       4.42673238, 4.53605088, 4.64279609, 4.74714162, 4.84924237,\n",
       "       4.94923726, 5.04725148, 5.14339824, 5.23778039, 5.33049167,\n",
       "       5.42161778, 5.51123737, 5.59942277, 5.6862407 , 5.77175288,\n",
       "       5.8560165 , 5.93908472, 6.021007  , 6.1018295 , 6.18159536,\n",
       "       6.26034497, 6.33811622, 6.41494467, 6.49086382, 6.5659052 ,\n",
       "       6.64009858, 6.71347206, 6.78605224, 6.85786432, 6.92893217,\n",
       "       6.99927846, 7.06892474, 7.13789149, 7.20619823, 7.27386355,\n",
       "       7.34090518, 7.40734007, 7.47318438, 7.53845361, 7.60316255,\n",
       "       7.6673254 , 7.73095575, 7.79406664, 7.85667059, 7.91877962,\n",
       "       7.9804053 , 8.04155872, 8.10225059, 8.1624912 , 8.22229047,\n",
       "       8.28165796, 8.34060289, 8.39913415, 8.45726034, 8.51498975,\n",
       "       8.5723304 , 8.62929003, 8.68587615, 8.742096  , 8.7979566 ,\n",
       "       8.85346477, 8.90862708, 8.96344991, 9.01793947, 9.07210176,\n",
       "       9.1259426 , 9.17946765, 9.2326824 , 9.28559218, 9.33820219,\n",
       "       9.39051746, 9.44254289, 9.49428323, 9.54574314, 9.59692712,\n",
       "       9.64783956, 9.69848473, 9.74886681, 9.79898985, 9.8488578 ])"
      ]
     },
     "execution_count": 9,
     "metadata": {},
     "output_type": "execute_result"
    }
   ],
   "source": [
    "img"
   ]
  },
  {
   "cell_type": "code",
   "execution_count": 103,
   "metadata": {},
   "outputs": [
    {
     "data": {
      "image/png": "[encoded data removed]",
      "text/plain": [
       "<Figure size 1000x700 with 1 Axes>"
      ]
     },
     "metadata": {},
     "output_type": "display_data"
    }
   ],
   "source": [
    "# Gráfica en 2D\n",
    "plt.figure(figsize=(10, 7))\n",
    "# plt.plot(dom,img)\n",
    "# plt.plot(dom,img, label='f(x)=sqrt(2x-3)')\n",
    "# plt.plot(dom,img, label='Función raíz cuadrada', color='#42BCF5', linewidth=1.2)\n",
    "plt.plot(dom,img, '4' ,label='Función raíz cuadrada', color='red')\n",
    "\n",
    "# Detalles de la gráfica\n",
    "plt.xlabel('Dominio de la función')\n",
    "plt.ylabel('Imagen de la función')\n",
    "plt.title('Gráfica de la función sqrt(2*x-3)')\n",
    "plt.legend(loc='center')\n",
    "plt.grid()\n",
    "plt.axhline(1, color='blue',linewidth=1)\n",
    "plt.axvline(2, color='green',linewidth=1)\n",
    "plt.axhline(5, color='blue',linewidth=1)\n",
    "plt.axvline(7, color='green',linewidth=1)\n",
    "plt.savefig('../imagenes_notebook//funraiz.png')\n",
    "nombre = '../imagenes_notebook/fun2.png'\n",
    "plt.savefig(nombre)"
   ]
  },
  {
   "cell_type": "code",
   "execution_count": 104,
   "metadata": {},
   "outputs": [
    {
     "data": {
      "text/plain": [
       "<Figure size 640x480 with 0 Axes>"
      ]
     },
     "metadata": {},
     "output_type": "display_data"
    }
   ],
   "source": [
    "tex = 'imagen'\n",
    "num = str(2)\n",
    "completo = '../imagenes_notebook/' + tex + num\n",
    "completo\n",
    "plt.savefig(completo)"
   ]
  },
  {
   "cell_type": "code",
   "execution_count": 105,
   "metadata": {},
   "outputs": [],
   "source": [
    "x = np.linspace(0,10,85)\n",
    "y1 = np.cos(x)\n",
    "y2 = np.sin(x)"
   ]
  },
  {
   "cell_type": "code",
   "execution_count": 106,
   "metadata": {},
   "outputs": [
    {
     "data": {
      "text/plain": [
       "[<matplotlib.lines.Line2D at 0x7e91f9cbd310>]"
      ]
     },
     "execution_count": 106,
     "metadata": {},
     "output_type": "execute_result"
    },
    {
     "data": {
      "image/png": "[encoded data removed]",
      "text/plain": [
       "<Figure size 640x480 with 1 Axes>"
      ]
     },
     "metadata": {},
     "output_type": "display_data"
    }
   ],
   "source": [
    "plt.plot(x,y1)\n",
    "# plt.figure()\n",
    "plt.plot(x,y2)"
   ]
  },
  {
   "cell_type": "markdown",
   "metadata": {},
   "source": [
    "# Tablas"
   ]
  },
  {
   "cell_type": "code",
   "execution_count": 107,
   "metadata": {},
   "outputs": [],
   "source": [
    "fun3 = lambda x: np.cos(1/x)\n",
    "PI = np.pi"
   ]
  },
  {
   "cell_type": "markdown",
   "metadata": {},
   "source": [
    "$f(x) = \\cos({1 \\over x})$"
   ]
  },
  {
   "cell_type": "code",
   "execution_count": 108,
   "metadata": {},
   "outputs": [],
   "source": [
    "domF3 = np.arange(-PI, PI, 0.01)\n",
    "imgF3 = fun3(domF3)"
   ]
  },
  {
   "cell_type": "code",
   "execution_count": 109,
   "metadata": {},
   "outputs": [],
   "source": [
    "datos = {\n",
    "    \"valores x\": np.arange(-PI, PI, 0.01),\n",
    "    \"valores f\": fun3(domF3)\n",
    "}\n"
   ]
  },
  {
   "cell_type": "code",
   "execution_count": 110,
   "metadata": {},
   "outputs": [
    {
     "name": "stdout",
     "output_type": "stream",
     "text": [
      "     valores x  valores f\n",
      "0    -3.141593   0.949766\n",
      "1    -3.131593   0.949447\n",
      "2    -3.121593   0.949125\n",
      "3    -3.111593   0.948801\n",
      "4    -3.101593   0.948473\n",
      "..         ...        ...\n",
      "624   3.098407   0.948368\n",
      "625   3.108407   0.948697\n",
      "626   3.118407   0.949022\n",
      "627   3.128407   0.949345\n",
      "628   3.138407   0.949665\n",
      "\n",
      "[629 rows x 2 columns]\n"
     ]
    }
   ],
   "source": [
    "tabla = pd.DataFrame(datos)\n",
    "print(tabla)"
   ]
  },
  {
   "cell_type": "code",
   "execution_count": 111,
   "metadata": {},
   "outputs": [
    {
     "data": {
      "text/plain": [
       "-46.52388980384691"
      ]
     },
     "execution_count": 111,
     "metadata": {},
     "output_type": "execute_result"
    }
   ],
   "source": [
    "tabla['valores x'][4] * 15"
   ]
  },
  {
   "cell_type": "code",
   "execution_count": 112,
   "metadata": {},
   "outputs": [
    {
     "data": {
      "text/plain": [
       "629"
      ]
     },
     "execution_count": 112,
     "metadata": {},
     "output_type": "execute_result"
    }
   ],
   "source": [
    "tabla['valores x'].size"
   ]
  },
  {
   "cell_type": "code",
   "execution_count": 113,
   "metadata": {},
   "outputs": [
    {
     "data": {
      "text/plain": [
       "<matplotlib.lines.Line2D at 0x7e91f9b47e10>"
      ]
     },
     "execution_count": 113,
     "metadata": {},
     "output_type": "execute_result"
    },
    {
     "data": {
      "image/png": "[encoded data removed]",
      "text/plain": [
       "<Figure size 1000x600 with 1 Axes>"
      ]
     },
     "metadata": {},
     "output_type": "display_data"
    }
   ],
   "source": [
    "# Gráfica en 2D\n",
    "plt.figure(figsize=(10, 6))\n",
    "# plt.plot(dom,img)\n",
    "# plt.plot(dom,img, label='Función raíz cuadrada')\n",
    "# plt.plot(dom,img, label='Función raíz cuadrada', color='red')\n",
    "plt.plot(tabla['valores x'],tabla['valores f'], label='Función coseno compuesta', color='red')\n",
    "\n",
    "# Detalles de la gráfica\n",
    "plt.xlabel('Dominio de la función')\n",
    "# plt.fun3(domF3)\n",
    "plt.ylabel('Imagen de la función')\n",
    "plt.title('Gráfica de la función cos(1/x)')\n",
    "plt.legend(loc='center')\n",
    "plt.grid()\n",
    "plt.axhline(0, color='blue',linewidth=1)\n",
    "plt.axvline(0, color='green',linewidth=1)"
   ]
  },
  {
   "cell_type": "code",
   "execution_count": 114,
   "metadata": {},
   "outputs": [],
   "source": [
    "tabla.to_csv('../archivos_texto_plano/formato1.csv')"
   ]
  },
  {
   "cell_type": "code",
   "execution_count": 115,
   "metadata": {},
   "outputs": [],
   "source": [
    "tabla.to_csv('../archivos_texto_plano/formato2.csv', index=False)"
   ]
  },
  {
   "cell_type": "code",
   "execution_count": 116,
   "metadata": {},
   "outputs": [],
   "source": [
    "tabla.to_csv('../archivos_texto_plano/formato3.csv', index=False, sep='\\t')"
   ]
  },
  {
   "cell_type": "code",
   "execution_count": 117,
   "metadata": {},
   "outputs": [],
   "source": [
    "tabla.to_csv('../archivos_texto_plano/formato4.csv', index=False, sep=' ')"
   ]
  },
  {
   "cell_type": "code",
   "execution_count": 118,
   "metadata": {},
   "outputs": [],
   "source": [
    "with open('../archivos_texto_plano/tabla_sin_delimitador.txt', 'w') as f:\n",
    "    for index, row in tabla.iterrows():\n",
    "        f.write(f\"{row['valores x']}\\t{row['valores f']} \\n\")"
   ]
  },
  {
   "cell_type": "code",
   "execution_count": 119,
   "metadata": {},
   "outputs": [
    {
     "data": {
      "text/html": [
       "<div>\n",
       "<style scoped>\n",
       "    .dataframe tbody tr th:only-of-type {\n",
       "        vertical-align: middle;\n",
       "    }\n",
       "\n",
       "    .dataframe tbody tr th {\n",
       "        vertical-align: top;\n",
       "    }\n",
       "\n",
       "    .dataframe thead th {\n",
       "        text-align: right;\n",
       "    }\n",
       "</style>\n",
       "<table border=\"1\" class=\"dataframe\">\n",
       "  <thead>\n",
       "    <tr style=\"text-align: right;\">\n",
       "      <th></th>\n",
       "      <th>valores x</th>\n",
       "      <th>valores f</th>\n",
       "    </tr>\n",
       "  </thead>\n",
       "  <tbody>\n",
       "    <tr>\n",
       "      <th>0</th>\n",
       "      <td>-3.141593</td>\n",
       "      <td>0.949766</td>\n",
       "    </tr>\n",
       "    <tr>\n",
       "      <th>1</th>\n",
       "      <td>-3.131593</td>\n",
       "      <td>0.949447</td>\n",
       "    </tr>\n",
       "    <tr>\n",
       "      <th>2</th>\n",
       "      <td>-3.121593</td>\n",
       "      <td>0.949125</td>\n",
       "    </tr>\n",
       "    <tr>\n",
       "      <th>3</th>\n",
       "      <td>-3.111593</td>\n",
       "      <td>0.948801</td>\n",
       "    </tr>\n",
       "    <tr>\n",
       "      <th>4</th>\n",
       "      <td>-3.101593</td>\n",
       "      <td>0.948473</td>\n",
       "    </tr>\n",
       "    <tr>\n",
       "      <th>...</th>\n",
       "      <td>...</td>\n",
       "      <td>...</td>\n",
       "    </tr>\n",
       "    <tr>\n",
       "      <th>624</th>\n",
       "      <td>3.098407</td>\n",
       "      <td>0.948368</td>\n",
       "    </tr>\n",
       "    <tr>\n",
       "      <th>625</th>\n",
       "      <td>3.108407</td>\n",
       "      <td>0.948697</td>\n",
       "    </tr>\n",
       "    <tr>\n",
       "      <th>626</th>\n",
       "      <td>3.118407</td>\n",
       "      <td>0.949022</td>\n",
       "    </tr>\n",
       "    <tr>\n",
       "      <th>627</th>\n",
       "      <td>3.128407</td>\n",
       "      <td>0.949345</td>\n",
       "    </tr>\n",
       "    <tr>\n",
       "      <th>628</th>\n",
       "      <td>3.138407</td>\n",
       "      <td>0.949665</td>\n",
       "    </tr>\n",
       "  </tbody>\n",
       "</table>\n",
       "<p>629 rows × 2 columns</p>\n",
       "</div>"
      ],
      "text/plain": [
       "     valores x  valores f\n",
       "0    -3.141593   0.949766\n",
       "1    -3.131593   0.949447\n",
       "2    -3.121593   0.949125\n",
       "3    -3.111593   0.948801\n",
       "4    -3.101593   0.948473\n",
       "..         ...        ...\n",
       "624   3.098407   0.948368\n",
       "625   3.108407   0.948697\n",
       "626   3.118407   0.949022\n",
       "627   3.128407   0.949345\n",
       "628   3.138407   0.949665\n",
       "\n",
       "[629 rows x 2 columns]"
      ]
     },
     "execution_count": 119,
     "metadata": {},
     "output_type": "execute_result"
    }
   ],
   "source": [
    "tabla"
   ]
  },
  {
   "cell_type": "code",
   "execution_count": null,
   "metadata": {},
   "outputs": [],
   "source": []
  }
 ],
 "metadata": {
  "kernelspec": {
   "display_name": "taller-python",
   "language": "python",
   "name": "python3"
  },
  "language_info": {
   "codemirror_mode": {
    "name": "ipython",
    "version": 3
   },
   "file_extension": ".py",
   "mimetype": "text/x-python",
   "name": "python",
   "nbconvert_exporter": "python",
   "pygments_lexer": "ipython3",
   "version": "3.11.11"
  }
 },
 "nbformat": 4,
 "nbformat_minor": 4
}
